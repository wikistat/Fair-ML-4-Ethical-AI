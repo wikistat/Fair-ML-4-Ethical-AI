{
 "cells": [
  {
   "cell_type": "markdown",
   "metadata": {},
   "source": [
    "<a href=\"http://www.insa-toulouse.fr/\" ><img src=\"http://www.math.univ-toulouse.fr/~besse/Wikistat/Images/logo-insa.jpg\" style=\"height:80px; display: inline\"  alt=\"INSA\"/></a> "
   ]
  },
  {
   "cell_type": "markdown",
   "metadata": {},
   "source": [
    "# Tutoriel en R: Détecter, Mesurer, Expliquer, Atténuer, la Discrimination Indirecte des Algorithmes d'Apprentissage Statistique\n",
    "\n",
    "**Version courte**\n",
    "\n",
    "**Résumé**\n",
    "Analyse de données extraites d'un recensement aux USA de 1994 et disponibles sur le [dépôt de l'UCI](http://archive.ics.uci.edu/ml/). Elles permettent de mettre en relation le niveau de revenu (inférieur ou supérieur à 50k$), analogue à une \"solvabilité\" ou score de crédit, avec d'autres variables dont certaines sensibles car indiquant l'appartenance à un groupe protégé par la loi: genre, origine ethnique. Différents indicateurs de biais donc de sources de discrimination indirecte vis à vis d'un groupe, sont définis et illustrés sur ces données. Les principaux, consensuels dans la littérature, sont l'effet disproportionné ou *disparate / adverse impact* (DI) (*demographic equality*), le taux d'erreur conditionnel (*overall error equality*) et des mesures associées à l'asymétrie des matrices de confusion conditionnellement au groupe (*equalized odds*). Le tutoriel conduit a estimer ces différents biais lors de la prévision de la solvabilité par régression logistique (linéaire), arbre bianire puis un algorithme de forêts aléatoires. La doctrine \"officielle\" des enquêtes par *testing*, adaptée pour détecter une discrimination individuelle directe, est également évaluée sur les prévisions de ces deux algorithmes. Une procédure élémentaire d'atténuation du biais systémique par *post-processing* est enfin exécutée afin d'évaluer son impact sur la précision de prévision et les autres biais. L'objectif, pour répondre aux attentes du futur [règlement européen](https://digital-strategy.ec.europa.eu/en/library/proposal-regulation-european-approach-artificial-intelligence) sur l'IA (*AI Act*) est de rechercher, de façon explicite et documentée pour ce système d'IA, le moins mauvais compromis entre précision de prévision, explicabilité d'une décision et contrôle des biais discriminatoires.\n",
    "\n",
    "**Remarques**\n",
    "- Les principaux résultats de ce tutoriel ont servi d'illustration pour une intervention lors d'un séminaire commun CNIL & Défenseur des Droits (05/2020); ils sont explicités dans un article soumis ([Besse, 2020](https://hal.archives-ouvertes.fr/hal-02616963)) au regard des obligations listées dans les différents articles de l'*AI Act*.\n",
    "- Ce tutoriel peut être exécuté en local après chargement ou clônage du dépôt ou encore dans le nuage *Google Colab* en cliquant sur le lien ci-dessous:\n",
    "\n",
    "<a href=\"https://colab.research.google.com/github/wikistat/Fair-ML-4-Ethical-AI/blob/master/AdultCensus/AdultCensus-R-biasDetection.ipynb\" target=\"_parent\"><img src=\"https://colab.research.google.com/assets/colab-badge.svg\" alt=\"Open In Colab\"/></a>"
   ]
  },
  {
   "cell_type": "markdown",
   "metadata": {},
   "source": [
    "##  Introduction\n",
    "###  Les données\n",
    "Des données publiques disponibles sur le site [UCI repository](http://archive.ics.uci.edu/ml/) sont extraites de la base de données issue du recensement réalisé aux Etats Unis en 1994. Les deux fichiers *train* et *test* ont été réunis en un seul. Ces données sont largement utilisées et font référence comme outil de *benchmark* pour comparer les performances de méthodes d’apprentissage. L’objectif est de prévoir, avec plus ou moins de biais, la variable binaire \"revenu annuel\" supérieur ou inférieur à 50k$. Cette prévision n'impacte pas la personne mais comme la démarche et le contexte sont tout à fait similaires à ce que pourrait faire une banque pour évaluer un risque de crédit, cet exemple est très illustratif. Ce jeu de données est systématiquement utilisé (bac à sable) pour évaluer les propriétés des algorithmes d'apprentissage équitable ou loyal (*fair learning*) car, contrairement à beaucoup d'autres jeux de données utilisés pour cette fin (*e.g. german credit bank*), la vraie valeur de la variable cible est connue ainsi que l'origine ethnique des personnes concernées.\n",
    "\n",
    "Dans les données initiales, 48.842 individus sont décrits par les 14 variables du tableau ci-dessous:\n",
    "\n",
    "\n",
    "|Num|Libellé|Ensemble de valeurs|\n",
    "|-|---------:|-------------------:|\n",
    "|1|`Age`|real|\n",
    "|2|`workClass`|Private, Self-emp-not-inc, Self-emp-inc, Federal-gov, Local-gov, State-gov, Without-pay, Never-worked|\n",
    "|3|`fnlwgt`|real|\n",
    "|4|`education`|Bachelors, Some-college, 11th, HS-grad, Prof-school, Assoc-acdm, Assoc-voc, 9th, 7th-8th, 12th, Masters, 1st-4th, 10th, Doctorate, 5th-6th, Preschool|\n",
    "|5|`educNum`|integer|\n",
    "|6|`mariStat`|Married-civ-spouse, Divorced, Never-married, Separated, Widowed, Married-spouse-absent, Married-AF-spouse|\n",
    "|7|`occup`|Tech-support, Craft-repair, Other-service, Sales, Exec-managerial, Prof-specialty, Handlers-cleaners, Machine-op-inspct, Adm-clerical, Farming-fishing, Transport-moving, Priv-house-serv, Protective-serv, Armed-Forces|\n",
    "|8|`relationship`|Wife, Own-child, Husband, Not-in-family, Other-relative, Unmarried\n",
    "|9|`origEthn`|White, Asian-Pac-Islander, Amer-Indian-Eskimo, Other, Black|\n",
    "|10|`sex`|Female, Male|\n",
    "|11|`capitalGain`|real| \n",
    "|12|`capitalLoss`|real|\n",
    "|13|`hoursWeek`|real|\n",
    "|14|`nativCountry`|United-States, Cambodia, England, Puerto-Rico, Canada, Germany, Outlying-US(Guam-USVI-etc), India, Japan, Greece, South, China, Cuba, Iran, Honduras, Philippines, Italy, Poland, Jamaica, Vietnam, Mexico, Portugal, Ireland, France, Dominican-Republic, Laos, Ecuador, Taiwan, Haiti, Columbia, Hungary, Guatemala, Nicaragua, Scotland, Thailand, Yugoslavia, El-Salvador, Trinadad&Tobago, Peru, Hong, Holand-Netherlands|\n",
    "|15|`income`|>50K, <=50K|\n"
   ]
  },
  {
   "cell_type": "markdown",
   "metadata": {},
   "source": [
    "###  Préparation des données\n",
    "\n",
    "Le traitement commence par une préparation détaillée des données:\n",
    "- lecture et prise en charge des données en remarquant que la variable `fnlwgt` (Final sampling weight) a un [statut particulier](http://web.cs.wpi.edu/~cs4341/C00/Projects/fnlwgt) pas très clair; elle est éliminée;\n",
    "- suppression des observations présentant des données manquantes, erreurs ou incohérences,\n",
    "- regroupement des modalités très dispersées, \n",
    "- suppression des variables redondantes. \n",
    "\n",
    "###  Estimation des biais\n",
    "\n",
    "Parmi tous les critères de biais existant susceptibles de mettre en évidence une discrimination indirecte (Zliobaitė, 2015), trois ont été privilégiés (cf. Vermat et Rubin, 2018): \n",
    "1. discrimination indirecte par l'effet disproportionné: *disparate impact* ou *demographic equality*\n",
    "2. comparaison des taux d'erreur conditionnels: *overall error equality*\n",
    "3. comparaison des rapports de cote: *conditional procedure accuracy equality* ou *disparate mistreatment* ou *equalized odds*.\n",
    "\n",
    "L'accent est mis dans ce premier tutoriel sur l'estimation de l'effet disproportionné (*disparate* ou *adverse impact*) vis-à-vis du genre. L'approximation de l'intervalle de confiance (Besse et al. 2021) est comparée avec une estimation *bootstrap* conduisant aux mêmes résultats. Les estimations sont calculées sur les données initiales de la base (biais de société ou systémique) puis sur les prévisions du seuil de revenu obtenues par deux algorithmes (régression logistique et forêts aléatoires) pour évaluer le risque de discrimination. L'impact de l'aténuation post processing de ce biais est évalué sur la précision et les autres types de biais.\n",
    "\n",
    "**Remarques** \n",
    "- un [calepin plus détaillé](https://github.com/wikistat/Fair-ML-4-Ethical-AI/blob/master/AdultCensus/AdultCensus-R-biasDetectionLong.ipynb) mais plus long propose une comparaison des impacts des autres algorithmes d'apprentissage et donc de leur effet discriminatoire fonction du biais de société (genre et origine ethnique). Cela permet d'en mieux comprendre l'importance de la prise en compte des interactions entre les variables. \n",
    "- le site [aif360](https://aif360.mybluemix.net/) propose également un ensemble d'exemples et tutoriels. Il est plus riche: autres jeux de données, autres critères et surtout plus d'algorithmes de débiaisage, mais présente soit des démonstrations triviales, soit des exemples de méthodes très sophistiquées d'atténuation du biais. Ce tutoriel se veut plus pédagogique pour appréhender pas-à-pas les problèmes. "
   ]
  },
  {
   "cell_type": "markdown",
   "metadata": {},
   "source": [
    "##  Exploration des données\n",
    "Lors de cette phase de travail, il y a deux points de vue radicalement différents. \n",
    "- Celui illustré par Friedler et al. (2019) consiste à entraîner un algorithme sur les données brutes sans exploration \"humaine\" préalable faisant appel à des compétences statistiques; par principe, tout est automatisé.\n",
    "- Celui proposé dans ce tutoriel est le résultat d'une démarche nécessitant des compétences  statistiques élémentaires pour explorer les données, comprendre leur structure, détecter les problèmes potentiels: données manquantes, atypiques, biais, classes rares, distributions \"anormales\"...) afin d'y remédier au mieux, et d'illustrer l'intérêt de l'objectif poursuivi. \n",
    "\n",
    "Remarquons que ce deuxième point de vue de connaissance des données est plus respectueux des [lignes directrices des experts de la CE pour une IA digne de confiance](https://ec.europa.eu/futurium/en/ai-alliance-consultation) et anticipe la proposition de [règlement européen](https://digital-strategy.ec.europa.eu/en/library/proposal-regulation-european-approach-artificial-intelligence) (*AI Act) qui impose la rédaction d'une documentation (annexe IV) explicite sur les études préalables de qualité et pertinence des données.\n",
    "\n",
    "###  Lecture et premières transformations\n",
    "Deux possibilités pour charger les données issues du dépôt de l'UCI en fonction du mode d'exécution adopté; en local après avoir installé R ou à distance dans le nuage *Google Colab*. \n",
    "1. Dans le premier cas, les données sont chargées en même temps que le dépôt *Github*,\n",
    "2. Dans le deuxième cas, <a href=\"https://colab.research.google.com/github/wikistat/Fair-ML-4-Ethical-AI/blob/master/AdultCensus/AdultCensus-R-biasDetection.ipynb\" target=\"_parent\"><img src=\"https://colab.research.google.com/assets/colab-badge.svg\" alt=\"Open In Colab\"/></a>\n",
    "les données et le programme de transformation sont chargés et lus dans l'environnement de *Google Colab*; il est nécessaire d'exécuter la cellule ci-dessous."
   ]
  },
  {
   "cell_type": "code",
   "execution_count": null,
   "metadata": {},
   "outputs": [],
   "source": [
    "# Exécuter cette cellule lors d'une exécution dans le nuage Google Colab\n",
    "# sinon les données et fonctions sont déjà chargées en local\n",
    "system(\"wget -P . https://github.com/wikistat/Fair-ML-4-Ethical-AI/raw/master/AdultCensus/adultTrainTest.csv\")\n",
    "system(\"wget -P . https://github.com/wikistat/Fair-ML-4-Ethical-AI/raw/master/AdultCensus/dataPrepAdultCensus.R\")\n",
    "system(\"mkdir ../Functions\")\n",
    "system(\"wget -P ../Functions https://raw.githubusercontent.com/wikistat/Fair-ML-4-Ethical-AI/master/Functions/dispImp.R\")\n",
    "system(\"wget -P ../Functions https://raw.githubusercontent.com/wikistat/Fair-ML-4-Ethical-AI/master/Functions/overErrEqual.R\")\n",
    "system(\"wget -P ../Functions https://raw.githubusercontent.com/wikistat/Fair-ML-4-Ethical-AI/master/Functions/oddsEqual.R\")"
   ]
  },
  {
   "cell_type": "markdown",
   "metadata": {},
   "source": [
    "Exécuter le programme de préparation des données, en consulter le code pour en étudier les principales fonctionnalités."
   ]
  },
  {
   "cell_type": "code",
   "execution_count": null,
   "metadata": {
    "ExecuteTime": {
     "end_time": "2020-03-22T10:28:18.067284Z",
     "start_time": "2020-03-22T10:28:16.515Z"
    },
    "scrolled": true
   },
   "outputs": [],
   "source": [
    "source(\"dataPrepAdultCensus.R\")\n",
    "dataBase = dataPrepAdultCensus()\n",
    "summary(dataBase)"
   ]
  },
  {
   "cell_type": "markdown",
   "metadata": {},
   "source": [
    "###  Description statistique élémentaire\n",
    "Mettre en évidence des difficultés présentes sur certaines variables ou couples de variables. "
   ]
  },
  {
   "cell_type": "code",
   "execution_count": null,
   "metadata": {
    "ExecuteTime": {
     "end_time": "2020-03-22T10:28:18.279443Z",
     "start_time": "2020-03-22T10:28:16.594Z"
    }
   },
   "outputs": [],
   "source": [
    "options(repr.plot.width=4, repr.plot.height=4)\n",
    "hist(dataBase[,\"LcapitalGain\"],probability=T, main=\"\",xlab=\"log(1+CapitalGain)\")\n",
    "boxplot(dataBase[,\"LcapitalGain\"], horizontal=TRUE,boxwex=.2,  outline=TRUE,  \n",
    "        frame=F, col = \"lightgrey\", add = TRUE,at=0.2)"
   ]
  },
  {
   "cell_type": "markdown",
   "metadata": {},
   "source": [
    "Distribution asymétrique d'où la nécessité de transformer certaines variables avant de contruire des modèles linéaires puis mise en évidence d'incohérences et de fortes redondances entre certaines variables."
   ]
  },
  {
   "cell_type": "code",
   "execution_count": null,
   "metadata": {
    "ExecuteTime": {
     "end_time": "2020-03-22T10:28:18.300927Z",
     "start_time": "2020-03-22T10:28:16.669Z"
    }
   },
   "outputs": [],
   "source": [
    "table(dataBase$relationship,dataBase$sex)   "
   ]
  },
  {
   "cell_type": "code",
   "execution_count": null,
   "metadata": {
    "ExecuteTime": {
     "end_time": "2020-03-22T10:28:18.327745Z",
     "start_time": "2020-03-22T10:28:16.676Z"
    }
   },
   "outputs": [],
   "source": [
    "table(dataBase$education,dataBase$educNum)  "
   ]
  },
  {
   "cell_type": "code",
   "execution_count": null,
   "metadata": {
    "ExecuteTime": {
     "end_time": "2020-03-22T10:28:18.357021Z",
     "start_time": "2020-03-22T10:28:16.681Z"
    }
   },
   "outputs": [],
   "source": [
    "table(dataBase$mariStat,dataBase$relationship)"
   ]
  },
  {
   "cell_type": "code",
   "execution_count": null,
   "metadata": {
    "ExecuteTime": {
     "end_time": "2020-03-22T10:28:18.382033Z",
     "start_time": "2020-03-22T10:28:16.686Z"
    }
   },
   "outputs": [],
   "source": [
    "table(dataBase$origEthn,dataBase$nativCountry)"
   ]
  },
  {
   "cell_type": "code",
   "execution_count": null,
   "metadata": {
    "ExecuteTime": {
     "end_time": "2020-03-22T10:28:18.448324Z",
     "start_time": "2020-03-22T10:28:16.690Z"
    }
   },
   "outputs": [],
   "source": [
    "mosaicplot(table(dataBase[,\"origEthn\"],dataBase[,\"income\"]),main=\"\", col=\"lightblue\",cex=1.3)"
   ]
  },
  {
   "cell_type": "markdown",
   "metadata": {},
   "source": [
    "Quelques modifications sont apportées dans la base; des variables sont supprimées afin de ne garder qu'une seule présence d'une information sensible: genre et origine ethnique.\n",
    "- Suppression de la variable 3 `fnlwgt` qui n'a guère de signification pour cette analyse.\n",
    "- Création d'une variable binaire `Child`: présence ou non d'enfants.\n",
    "- Suppression de la variable 8 `relationship` redondante avec le genre et le statut marital,\n",
    "- Suppression de la variable 14 `nativCountry` redondante avec l'origine ethnique.\n",
    "- La variable 9 `originEthn` est simplifiée à 2 classes: CaucYes *vs.* CaucNo\n",
    "\n",
    "**Attention** Pour la suite, il est important que les niveaux des facteurs soient ordonnés de façon cohérente pour la bonne interprétation des tables de contingence et de leurs effectifs. Par convention, les modalités pré-jugées socialement \"dévavorables\": revenu faible, femme, non caucasien (codées 0), précèdent les autres: revenu élevé, homme, caucasien (codées 1). Il faut donc soit réordonner les niveaux de la variable `income` ou renommer les modalités pour faire correspondre l'ordre alphabétique; ce deuxième choix est exécuté."
   ]
  },
  {
   "cell_type": "code",
   "execution_count": null,
   "metadata": {
    "ExecuteTime": {
     "end_time": "2020-03-22T10:28:18.530959Z",
     "start_time": "2020-03-22T10:28:16.765Z"
    }
   },
   "outputs": [],
   "source": [
    "dataBase[,\"child\"]=as.factor(ifelse(dataBase$relationship=='Own-child',\"ChildYes\",\"ChildNo\"))\n",
    "dataBase[,\"origEthn\"]=as.factor(ifelse(dataBase$origEthn %in% c('Amer-Indian','Asian','Black','Other'),\"CaucNo\",\"CaucYes\"))\n",
    "dataBase[,\"income\"]=as.factor(ifelse(dataBase$income=='incLow',\"incB\",\"incH\"))\n",
    "datBas=dataBase[,-c(3,8,14)]\n",
    "summary(datBas)"
   ]
  },
  {
   "cell_type": "markdown",
   "metadata": {},
   "source": [
    "Quelques *mosaicplots* basiques montrent le lien des variables sensibles avec la cible (seuil de revenu) et mettent clairement en évidence le biais de société."
   ]
  },
  {
   "cell_type": "code",
   "execution_count": null,
   "metadata": {
    "ExecuteTime": {
     "end_time": "2020-03-22T10:28:18.567645Z",
     "start_time": "2020-03-22T10:28:16.829Z"
    }
   },
   "outputs": [],
   "source": [
    "mosaicplot(table(datBas[,\"sex\"],datBas[,\"income\"]),main=\"\", col=\"lightblue\",cex=1.3)"
   ]
  },
  {
   "cell_type": "code",
   "execution_count": null,
   "metadata": {
    "ExecuteTime": {
     "end_time": "2020-03-22T10:28:18.610285Z",
     "start_time": "2020-03-22T10:28:16.833Z"
    }
   },
   "outputs": [],
   "source": [
    "mosaicplot(table(datBas[,\"origEthn\"],datBas[,\"income\"]),main=\"\",col=\"lightblue\",cex=1.3)"
   ]
  },
  {
   "cell_type": "markdown",
   "metadata": {},
   "source": [
    "**Q** Commentaires sur les biais présents dans la base, les déséquilibres des classes.\n",
    "\n",
    "###  [Analyse factorielle multiple des correspondances](http://wikistat.fr/pdf/st-m-explo-afcm.pdf)\n",
    "Cette méthode permet d'avoir une vue d'ensemble de la structure des liaisons entre les variables qualitatives prises 2 à 2. C'est la raison pour laquelle les variables quantitatives ont été découpées en classes afin de mixer variables quantitatives découpées en classes et variables qualitatives. L'objectif est de s'assurer de la bonne cohérence ou qualité de la base de données résultante.\n",
    "\n",
    "**Attention**: décommenter la commande d'installation ci-dessous lors d'une exécution dans le nuage ou si tout simplement cette librairie n'est pas installée."
   ]
  },
  {
   "cell_type": "code",
   "execution_count": null,
   "metadata": {},
   "outputs": [],
   "source": [
    "# install.packages(\"factoMineR\")"
   ]
  },
  {
   "cell_type": "code",
   "execution_count": null,
   "metadata": {},
   "outputs": [],
   "source": [
    "library(FactoMineR)\n",
    "dataq=datBas[,c(2,3,5:10,12,15:17)]\n",
    "afcm=MCA(dataq,graph=FALSE)\n",
    "plot(1:30,afcm$eig[1:30,1],type=\"h\")"
   ]
  },
  {
   "cell_type": "markdown",
   "metadata": {},
   "source": [
    "Il pourrait être utile de considérer 3 ou 4 axes mais seuls deux sont utilisés dans cette approche élémentaire. \n",
    "\n",
    "**Remarque** Cette étape permettrait d'anonymiser les données pour des traitements ultérieurs \"confidentiels\". Les variables qualitatives suceptibles de ré-identifier les données sont remplacées par les composantes principales de l'ACP des vecteurs profils lignes du tableau disjontif complet. Les liens entre individus sont conservés sans possibilité de les identifier."
   ]
  },
  {
   "cell_type": "code",
   "execution_count": null,
   "metadata": {},
   "outputs": [],
   "source": [
    "options(repr.plot.width=8, repr.plot.height=8)\n",
    "plot.MCA(afcm,invisible=c(\"ind\"),habillage=\"quali\")"
   ]
  },
  {
   "cell_type": "markdown",
   "metadata": {},
   "source": [
    "Remarquer la très forte et attendue liaison entre niveau d'éducation et activité selon un axe de dispersion suivant la première bissectrice, lui même en relation avec les modalités haut et bas revenus alors que le genre, en première approximation, semble orthogonal à cet axe mais en relation avec le type d'activité et le nombre d'heures de travail par semaine:les femmes ont plutôt moins d'activités salariées par semaine et dans des emplois avec moins de responsabilité indépendamment du niveau de diplôme.\n",
    "\n",
    "Ce graphique laisse penser que le lien entre genre et niveau de revenu ne serait pas dû à une sous qualification des femmes mais à une moindre activité (travail partiel) ou à des types d'emplois moins rémunérés.\n",
    "\n",
    "Cette représentation est complétée en projetant les individus colorés selon la variable revenu. De façon triviale, les hauts revenus se concentrent du côté des niveaux d'éducation les plus élevés.\n",
    "\n",
    "*En résumé*: un lien direct entre revenu et niveau d'éducation, pas nécessairement de lien entre genre et niveau d'éducation mais un \"frein\" au revenu lié au type de travail ou d'occupation : administratif, service... et à de possibles temps partiels."
   ]
  },
  {
   "cell_type": "code",
   "execution_count": null,
   "metadata": {},
   "outputs": [],
   "source": [
    "plot(afcm$ind$coord,type=\"p\",pch=\".\",cex=2,col=as.integer(dataBase$income))"
   ]
  },
  {
   "cell_type": "markdown",
   "metadata": {},
   "source": [
    "###  Préparation des échantillons\n",
    "La base de données est divisée en deux échantillons d'apprentissage et de test. "
   ]
  },
  {
   "cell_type": "code",
   "execution_count": null,
   "metadata": {
    "ExecuteTime": {
     "end_time": "2020-03-22T10:28:18.652442Z",
     "start_time": "2020-03-22T10:28:16.960Z"
    }
   },
   "outputs": [],
   "source": [
    "summary(datBas)"
   ]
  },
  {
   "cell_type": "markdown",
   "metadata": {},
   "source": [
    "Sélection des variables utilisées par la suite, celles qualitatives issues des quantitatives ne sont pas reprises."
   ]
  },
  {
   "cell_type": "code",
   "execution_count": null,
   "metadata": {
    "ExecuteTime": {
     "end_time": "2020-03-22T10:28:18.878493Z",
     "start_time": "2020-03-22T10:28:16.964Z"
    }
   },
   "outputs": [],
   "source": [
    "datBas=datBas[,c(\"age\",\"educNum\",\"mariStat\",\"occup\",\"origEthn\",\n",
    "                 \"sex\",\"hoursWeek\",\"income\",\"LcapitalGain\",\"LcapitalLoss\",\"child\")]\n",
    "summary(datBas)"
   ]
  },
  {
   "cell_type": "markdown",
   "metadata": {},
   "source": [
    "Extraction des échantillons d'apprentissage, validation et test. Vous pouvez changer la valeur initiale `seed` du générateur de nombres aléatoires afin d'obtenir une autre répartition entre apprentissage, validation et test.\n",
    "\n",
    "Comme l'échantillon initial est relativement volumineux, et conformément aux attendus du projet d'*AI Act*, un échantillon de validation est utilisé pour l'optimisation des hyper paramètres au lieu de procédures plus précises mais plus lourdes de validation croisée."
   ]
  },
  {
   "cell_type": "code",
   "execution_count": null,
   "metadata": {
    "ExecuteTime": {
     "end_time": "2020-03-22T10:28:18.905176Z",
     "start_time": "2020-03-22T10:28:16.967Z"
    }
   },
   "outputs": [],
   "source": [
    "set.seed(11) # initialisation du générateur\n",
    "# Extraction des échantillons\n",
    "test.ratio=.2   # part des échantillons de test et validation\n",
    "npop=nrow(datBas) # nombre de lignes dans les données\n",
    "nvar=ncol(datBas) # nombre de colonnes\n",
    "# taille des échantillons de validation et test\n",
    "ntest=ceiling(npop*test.ratio) \n",
    "# indices de l'échantillon test\n",
    "testi=sample(1:npop,ntest)\n",
    "# indices restants de l'échantillon\n",
    "resti=setdiff(1:npop,testi); nrest=length(resti)\n",
    "# indices de l'échantillon de validation\n",
    "vali=resti[sample(1:nrest,ntest)]\n",
    "# indices de l'échantillon d'apprentissage\n",
    "appri=setdiff(resti,vali)"
   ]
  },
  {
   "cell_type": "code",
   "execution_count": null,
   "metadata": {
    "ExecuteTime": {
     "end_time": "2020-03-22T10:28:19.155030Z",
     "start_time": "2020-03-22T10:28:16.972Z"
    }
   },
   "outputs": [],
   "source": [
    "# construction de l'échantillon d'apprentissage\n",
    "datApp=datBas[appri,]\n",
    "# construction de l'échantillon test \n",
    "daTest=datBas[testi,]\n",
    "# construction de l'échantillon de validation\n",
    "datVal=datBas[vali,]"
   ]
  },
  {
   "cell_type": "markdown",
   "metadata": {},
   "source": [
    "Définition d'une fonction pour calculer le taux d'erreur usuel de la matrice de confusion. Avec l'ordonnancement des modalités, les bien classés sont les termes diagonaux de la matrice de confusion."
   ]
  },
  {
   "cell_type": "code",
   "execution_count": null,
   "metadata": {
    "ExecuteTime": {
     "end_time": "2020-03-22T10:28:19.172350Z",
     "start_time": "2020-03-22T10:28:17.039Z"
    }
   },
   "outputs": [],
   "source": [
    "tauxErr=function(table){round((table[1,2]+table[2,1])/sum(table)*100,2)}"
   ]
  },
  {
   "cell_type": "markdown",
   "metadata": {},
   "source": [
    "Les différents résultats sont stockés dans un tableau dans l'objectif d'un graphe comparatif de synthèse."
   ]
  },
  {
   "cell_type": "code",
   "execution_count": null,
   "metadata": {},
   "outputs": [],
   "source": [
    "matRes=data.frame(matrix(0,8,4))\n",
    "rownames(matRes)=c(\"dataBaseBias\",\"linLogit\",\"tree\",\"linLogit_w_S\",\"testingLogit\",\"randomForest\",\"TreeDiscrPos\",\"RFdiscrPos\")\n",
    "colnames(matRes)=c(\"Lower\",\"DI\",\"Upper\",\"Accuracy\")"
   ]
  },
  {
   "cell_type": "markdown",
   "metadata": {},
   "source": [
    "##  Prévision du seuil de revenu \n",
    "Une comparaison détaillée (cf. le [tutoriel](https://github.com/wikistat/Apprentissage/blob/master/Adult-Census/Apprent-Python-AdultCensus.ipynb)) de la plupart des modèles et algorithmes de prévision du seuil de revenu en fonction des différentes variables met en évidence des résultats de prévision un peu meilleurs obtenus par l'algorithme de *gradient boosting* (version xtrem). Néanmoins, on peut se limiter ici à un choix plus restreint de modèles et algorithmes pour comprendre l'impact sur la discrimination entre:\n",
    "- la régression logistique (linéaire) interprétable,\n",
    "- un arbre binaire de décision,\n",
    "- les forêts aléatoires (non linéaires intégrant les interactions) mais sans capacité d'interprétation.\n",
    "\n",
    "Un arbre binaire conduit à des qualités de prévision intermédiaires entre régression logistique et forêt aléatoire mais n'est pas facilement interprétable à cause du nombre jugé \"optimal\" mais élevé de feuilles.\n",
    "\n",
    "###  Prévision par [régression logistique](http://wikistat.fr/pdf/st-m-app-rlogit.pdf)"
   ]
  },
  {
   "cell_type": "code",
   "execution_count": null,
   "metadata": {
    "ExecuteTime": {
     "end_time": "2020-03-22T10:28:21.296744Z",
     "start_time": "2020-03-22T10:28:17.107Z"
    }
   },
   "outputs": [],
   "source": [
    "# estimation du modèle complet\n",
    "log.lm=glm(income~.,data=datApp,family=binomial)\n",
    "# significativité des paramètres\n",
    "anova(log.lm,test=\"Chisq\")"
   ]
  },
  {
   "cell_type": "markdown",
   "metadata": {},
   "source": [
    "**Q** Commentaires sur la significativité des paramètres."
   ]
  },
  {
   "cell_type": "code",
   "execution_count": null,
   "metadata": {
    "ExecuteTime": {
     "end_time": "2020-03-22T10:28:21.327316Z",
     "start_time": "2020-03-22T10:28:17.177Z"
    }
   },
   "outputs": [],
   "source": [
    "summary(log.lm)"
   ]
  },
  {
   "cell_type": "markdown",
   "metadata": {},
   "source": [
    "**Q** Interprétation du rôle des variables sur le seuil de revenu."
   ]
  },
  {
   "cell_type": "code",
   "execution_count": null,
   "metadata": {
    "ExecuteTime": {
     "end_time": "2020-03-22T10:28:21.369423Z",
     "start_time": "2020-03-22T10:28:17.243Z"
    }
   },
   "outputs": [],
   "source": [
    "# Prévision de l'échantillon test\n",
    "pred.log=predict(log.lm,newdata=daTest,type=\"response\")\n",
    "# Matrice de confusion pour la prévision du \n",
    "# dépassement de seuil\n",
    "confMat=table(pred.log>0.5,daTest$income)\n",
    "confMat"
   ]
  },
  {
   "cell_type": "code",
   "execution_count": null,
   "metadata": {
    "ExecuteTime": {
     "end_time": "2020-03-22T10:28:21.388437Z",
     "start_time": "2020-03-22T10:28:17.247Z"
    }
   },
   "outputs": [],
   "source": [
    "err=tauxErr(confMat)\n",
    "matRes[2,4]=(100-err)/100\n",
    "err"
   ]
  },
  {
   "cell_type": "markdown",
   "metadata": {},
   "source": [
    "**Remarque** Un modèle de régression logistique avec interactions, donc quadratique, ne conduit pas à une  prévision significativement meilleure mais nécessite une sélection de variables (*e.g. stepwise* ou `both`) longue à exécuter. Toujours par souci de concision, elle n'est pas reproduite; consulter le [calepin plus complet](https://github.com/wikistat/Fair-ML-4-Ethical-AI/blob/master/AdultCensus/AdultCensus-R-biasDetectionLong.ipynb)."
   ]
  },
  {
   "cell_type": "markdown",
   "metadata": {},
   "source": [
    "###  Prévision par arbre binaire"
   ]
  },
  {
   "cell_type": "code",
   "execution_count": null,
   "metadata": {
    "ExecuteTime": {
     "end_time": "2020-03-22T10:28:21.424738Z",
     "start_time": "2020-03-22T10:28:17.383Z"
    }
   },
   "outputs": [],
   "source": [
    "summary(datApp)"
   ]
  },
  {
   "cell_type": "markdown",
   "metadata": {},
   "source": [
    "**Attention**: décommenter la commande d'installation ci-dessous lors d'une exécution dans le nuage ou si tout simplement cette librairie n'est pas installée."
   ]
  },
  {
   "cell_type": "code",
   "execution_count": null,
   "metadata": {},
   "outputs": [],
   "source": [
    "# install.packages(\"rpart\")"
   ]
  },
  {
   "cell_type": "code",
   "execution_count": null,
   "metadata": {},
   "outputs": [],
   "source": [
    "library(rpart)\n",
    "# Estimation du modèle complet\n",
    "tree.mod=rpart(income~.,data=datApp,cp=0.0001)"
   ]
  },
  {
   "cell_type": "markdown",
   "metadata": {},
   "source": [
    "Optimisation de la pénalité"
   ]
  },
  {
   "cell_type": "code",
   "execution_count": null,
   "metadata": {},
   "outputs": [],
   "source": [
    "xmat=xpred.rpart(tree.mod)\n",
    "xerr=(xmat-as.integer(datApp[,\"income\"]))^2\n",
    "CVerr=apply(xerr,2,sum)"
   ]
  },
  {
   "cell_type": "code",
   "execution_count": null,
   "metadata": {},
   "outputs": [],
   "source": [
    "as.numeric(attributes(which.min(CVerr))$names)"
   ]
  },
  {
   "cell_type": "code",
   "execution_count": null,
   "metadata": {},
   "outputs": [],
   "source": [
    "tree.opt=rpart(income~.,data=datApp,control=rpart.control(cp=as.numeric(attributes(which.min(CVerr))$names)))"
   ]
  },
  {
   "cell_type": "code",
   "execution_count": null,
   "metadata": {},
   "outputs": [],
   "source": [
    "library(partykit)\n",
    "options(repr.plot.width=16, repr.plot.height=16)\n",
    "plot(as.party(tree.opt), type=\"simple\")"
   ]
  },
  {
   "cell_type": "markdown",
   "metadata": {},
   "source": [
    "**Q** Que dire de la clareté de l'interprétation de ce modèle?\n",
    "\n",
    "**Q** Que dire de la présence de la variable genre?\n",
    "\n",
    "Estimation de l'erreur sur l'échantillon test"
   ]
  },
  {
   "cell_type": "code",
   "execution_count": null,
   "metadata": {},
   "outputs": [],
   "source": [
    "pred.tree=predict(tree.opt,newdata=daTest,type=\"class\")\n",
    "confMat=table(pred.tree,daTest$income)\n",
    "confMat\n",
    "err=tauxErr(confMat)\n",
    "matRes[3,4]=(100-err)/100\n",
    "err"
   ]
  },
  {
   "cell_type": "markdown",
   "metadata": {},
   "source": [
    "Un modèle plus simple est obtenu en augmentant la pénalisation mais avec pour conséquence de restreindre les performances. Le choix de la pénalisation est opéré sur l'échantillon de validation."
   ]
  },
  {
   "cell_type": "code",
   "execution_count": null,
   "metadata": {},
   "outputs": [],
   "source": [
    "tree.int=rpart(income~.,data=datVal,control=rpart.control(cp=0.005))"
   ]
  },
  {
   "cell_type": "code",
   "execution_count": null,
   "metadata": {},
   "outputs": [],
   "source": [
    "plot(as.party(tree.int), type=\"simple\")"
   ]
  },
  {
   "cell_type": "markdown",
   "metadata": {},
   "source": [
    "Une fois la pénalisation choisie, le modèle est ré-estimé pour évaluer la précision sur l'échantillon test."
   ]
  },
  {
   "cell_type": "code",
   "execution_count": null,
   "metadata": {},
   "outputs": [],
   "source": [
    "tree.int=rpart(income~.,data=datApp,control=rpart.control(cp=0.005))\n",
    "pred.tree=predict(tree.int,newdata=daTest,type=\"class\")\n",
    "confMat=table(pred.tree,daTest$income)\n",
    "confMat\n",
    "tauxErr(confMat)"
   ]
  },
  {
   "cell_type": "markdown",
   "metadata": {},
   "source": [
    "###  Prévision par [forêts aléatoires](http://wikistat.fr/pdf/st-m-app-agreg.pdf)\n",
    "\n",
    "**Q** Quelles sont les options par défaut utilisées ci-dessous?"
   ]
  },
  {
   "cell_type": "code",
   "execution_count": null,
   "metadata": {
    "ExecuteTime": {
     "end_time": "2020-03-22T10:28:21.456485Z",
     "start_time": "2020-03-22T10:28:17.386Z"
    }
   },
   "outputs": [],
   "source": [
    "# install.packages(\"randomForest\")"
   ]
  },
  {
   "cell_type": "code",
   "execution_count": null,
   "metadata": {
    "ExecuteTime": {
     "end_time": "2020-03-22T10:28:45.310732Z",
     "start_time": "2020-03-22T10:28:17.391Z"
    }
   },
   "outputs": [],
   "source": [
    "library(randomForest)\n",
    "rf.mod=randomForest(income~.,data=datApp)\n",
    "pred.rf=predict(rf.mod,newdata=daTest,type=\"response\")\n",
    "confMat=table(pred.rf,daTest$income)\n",
    "confMat\n",
    "err=tauxErr(confMat)\n",
    "matRes[6,4]=(100-err)/100\n",
    "err"
   ]
  },
  {
   "cell_type": "markdown",
   "metadata": {},
   "source": [
    "**Q** Comparer les résultats obtenus, précision et explicabilité.\n",
    "\n",
    "Les calculs peuvent également être conduits en considérant l'origine ethnique comme variable sensible (consulter le [calepin plus complet](https://github.com/wikistat/Fair-ML-4-Ethical-AI/blob/master/AdultCensus/AdultCensus-R-biasDetectionLong.ipynb)) mais les résultats sont moins nets, moins \"pédagogiques\"."
   ]
  },
  {
   "cell_type": "markdown",
   "metadata": {},
   "source": [
    "###  Modèle de régression logistique sans la variable genre\n",
    "Une approche très naïve pour construire un apprentissage \"loyal\" consiste à supprimer la variable sensible. Le modèle de régression logistique est donc estimé sans cette variable afin d'évaluer par la suite l'impact sur le biais."
   ]
  },
  {
   "cell_type": "code",
   "execution_count": null,
   "metadata": {
    "ExecuteTime": {
     "end_time": "2020-03-22T10:28:45.691895Z",
     "start_time": "2020-03-22T10:28:17.460Z"
    }
   },
   "outputs": [],
   "source": [
    "# estimation du modèle \n",
    "log_g.lm=glm(income~.,data=datApp[,-6],family=binomial)"
   ]
  },
  {
   "cell_type": "code",
   "execution_count": null,
   "metadata": {
    "ExecuteTime": {
     "end_time": "2020-03-22T10:28:45.722613Z",
     "start_time": "2020-03-22T10:28:17.463Z"
    }
   },
   "outputs": [],
   "source": [
    "# Prévision\n",
    "pred_g.log=predict(log_g.lm,newdata=daTest[,-8],type=\"response\")\n",
    "# Matrice de confusion pour la prévision du \n",
    "# dépassement de seuil\n",
    "confMat=table(pred_g.log>0.5,daTest$income)\n",
    "confMat"
   ]
  },
  {
   "cell_type": "code",
   "execution_count": null,
   "metadata": {
    "ExecuteTime": {
     "end_time": "2020-03-22T10:28:45.739468Z",
     "start_time": "2020-03-22T10:28:17.468Z"
    }
   },
   "outputs": [],
   "source": [
    "err=tauxErr(confMat)\n",
    "matRes[4,4]=(100-err)/100\n",
    "err"
   ]
  },
  {
   "cell_type": "markdown",
   "metadata": {},
   "source": [
    "**Q** que dire de la qualité de prévision sans la variable genre?"
   ]
  },
  {
   "cell_type": "markdown",
   "metadata": {},
   "source": [
    "##  Estimation de l'effet disproportionné\n",
    "###  Définition\n",
    "Les mesures de discrimination indirecte ou de groupe sont basées sur un critère d'effet disproportionné ou *disparate / adverse impact* (*DI*) apparu aux USA en 1971 (Barocas et Selbst, 2016) pour détecter des discriminations à l'embauche. Ce critère est défini par le rapport de deux probabilités : la probabilité de bénéficier d'une situation ou décision favorable (revenu élevé, crédit, emploi, logement...) pour une personne du groupe protégé par la loi (femme ou origine non caucasienne), sur la même probabilité pour une personne de l'autre groupe (homme ou origine caucasienne).\n",
    "\n",
    "*Notations*: \n",
    "\n",
    "- $Y$ est la variable cible ou à expliquer, ici le revenu, $Y=1$ revenu élevé *vs* $Y=0$; \n",
    "- $g(X)=\\hat{Y}$ le score élevé ou faible ou prévision du revenu, $g(X)=\\hat{Y}=0$: prévision d'un revenu faible;\n",
    "- $S$ est la variable sensible qui désigne le groupe en principe protégé par la loi contre une possible discrimination. Il s'agit ici du genre masculin ($S=1$) ou féminin ($S=0$). \n",
    "\n",
    "L'effet disproportionné mesure une situation de biais de société déjà présent dans la base de données. \n",
    "$$DI=\\frac{P(Y=1|S=0)}{P(Y=1|S=1)}.$$\n",
    "Il est estimé à partir des valeurs de la table de contingence croisant les variables $Y$ et $S$ par le rapport:\n",
    "$$\\frac{n_{21}}{(n_{11}+n_{21})}/\\frac{n_{22}}{(n_{12}+n_{22})}.$$\n",
    "\n",
    "Appliqué à la prévision $g(X)=\\hat{Y}$ de la variable cible $Y$, il mesure le biais de cette prévision et donc le risque de discrimination opéré par la prévision.\n",
    "\n",
    "###  Fonction `dispImp`\n",
    "Une fonction R calcule le $DI$ et fournit de plus une estimation par intervalle de confiance [Besse et al, 2020](https://arxiv.org/pdf/2003.14263.pdf)\n",
    " décomposant la fonction de densité de la statistique de test par la *delta method*. Cette fonction a trois arguments:   \n",
    "- la variable $S$ considérée comme sensible: un facteur à deux niveaux ordonnés \"défavorable\" puis \"favorable\";\n",
    "- la variable cible $Y$ ou sa prévision $g(X)=\\hat{Y}$: également un facteur à deux niveaux défavorable puis favorable;\n",
    "- le risque de l'intervalle de confiance, par défaut 5%.\n",
    "\n",
    "Cette fonction renvoie les trois estimations $DI$ et $IC_g$, $IC_d$ bornes de l'intervalle de confiance.\n",
    "\n",
    "Morris S., Lobsenz R. (2000) avait déjà suggéré de calculer une estimation du *DI* par intervalle de confiance mais en faisant l'hypothèse de distributions gaussiennes; cette approximation n'est pas justifiée pour les effectifs d'une table de contingence."
   ]
  },
  {
   "cell_type": "code",
   "execution_count": null,
   "metadata": {
    "ExecuteTime": {
     "end_time": "2020-03-22T10:28:45.760439Z",
     "start_time": "2020-03-22T10:28:17.604Z"
    }
   },
   "outputs": [],
   "source": [
    "source(\"../Functions/dispImp.R\")"
   ]
  },
  {
   "cell_type": "markdown",
   "metadata": {},
   "source": [
    "###  Effet disproportionné ou biais de la base d'apprentissage\n",
    "La fonction `dispImp` nécessite que les niveaux des facteurs soient dans l'ordre lexicographique: niveaux \"défavorable\" puis \"favorable\".\n",
    "\n",
    "Table de contingence croisant $Y$ (revenu) avec $S$ (genre)."
   ]
  },
  {
   "cell_type": "code",
   "execution_count": null,
   "metadata": {
    "ExecuteTime": {
     "end_time": "2020-03-22T10:28:45.780646Z",
     "start_time": "2020-03-22T10:28:17.674Z"
    }
   },
   "outputs": [],
   "source": [
    "tableDI=table(datBas$income,datBas$sex)\n",
    "tableDI"
   ]
  },
  {
   "cell_type": "markdown",
   "metadata": {},
   "source": [
    "*Estimation ponctuelle* de $DI=\\frac{n_{21}}{(n_{11}+n_{21})}/\\frac{n_{22}}{(n_{12}+n_{22})}.$"
   ]
  },
  {
   "cell_type": "code",
   "execution_count": null,
   "metadata": {
    "ExecuteTime": {
     "end_time": "2020-03-22T10:28:45.803362Z",
     "start_time": "2020-03-22T10:28:17.735Z"
    }
   },
   "outputs": [],
   "source": [
    "round((tableDI[2,1]/(tableDI[1,1]+tableDI[2,1]))/(tableDI[2,2]/(tableDI[1,2]+tableDI[2,2])),3)"
   ]
  },
  {
   "cell_type": "markdown",
   "metadata": {},
   "source": [
    "*Estimation par intervalle de confiance* approché par *delta method*. "
   ]
  },
  {
   "cell_type": "code",
   "execution_count": null,
   "metadata": {
    "ExecuteTime": {
     "end_time": "2020-03-22T10:28:45.860878Z",
     "start_time": "2020-03-22T10:28:17.797Z"
    }
   },
   "outputs": [],
   "source": [
    "round(dispImp(datBas[,\"sex\"],datBas[,\"income\"]),3)"
   ]
  },
  {
   "cell_type": "markdown",
   "metadata": {},
   "source": [
    "**Q** Commenter le biais ainsi mesuré, comparer avec le graphique obtenu (*mosaic plot*) lors de l'exploration.\n",
    "\n",
    "*[Estimation bootstrap](http://wikistat.fr/pdf/st-m-app-bootstrap.pdf) de l'intervalle de confiance*\n",
    "\n",
    "L'estimation de l'intervalle de confiance est comparée avec le comportement du *DI* sur des échantillons *bootstrap* (Efron 1987)."
   ]
  },
  {
   "cell_type": "code",
   "execution_count": null,
   "metadata": {
    "ExecuteTime": {
     "end_time": "2020-03-22T10:28:47.552814Z",
     "start_time": "2020-03-22T10:28:17.862Z"
    }
   },
   "outputs": [],
   "source": [
    "B=1000 \n",
    "set.seed(11)\n",
    "n=nrow(datBas)\n",
    "res=matrix(0,B,3)\n",
    "for (i in 1:B)\n",
    "    {\n",
    "    boot=sample(n,n,replace=T)\n",
    "    res[i,]=dispImp(datBas[boot,\"sex\"],datBas[boot,\"income\"])\n",
    "    }"
   ]
  },
  {
   "cell_type": "code",
   "execution_count": null,
   "metadata": {
    "ExecuteTime": {
     "end_time": "2020-03-22T10:28:47.666234Z",
     "start_time": "2020-03-22T10:28:17.866Z"
    }
   },
   "outputs": [],
   "source": [
    "options(repr.plot.width=5, repr.plot.height=4)\n",
    "DI_confInt_delta <- round(dispImp(datBas[,\"sex\"], datBas[,\"income\"]), 3)\n",
    "plot(res[,2],ylim=c(0.3,0.45),pch='.')\n",
    "lines(res[,2],col=3,pch='.')\n",
    "abline(h=DI_confInt_delta[c(1, 3)], col=2) "
   ]
  },
  {
   "cell_type": "markdown",
   "metadata": {},
   "source": [
    "**Q** Que dire des estimations du *DI* sur les échantillons bootstrap par rapport aux bornes de l'intervalle de confiance ?"
   ]
  },
  {
   "cell_type": "markdown",
   "metadata": {},
   "source": [
    "Une fonction de la librairie `boot` fournit une estimation bootstrap de l'intervalle de confiance."
   ]
  },
  {
   "cell_type": "code",
   "execution_count": null,
   "metadata": {
    "ExecuteTime": {
     "end_time": "2020-03-22T10:29:27.828668Z",
     "start_time": "2020-03-22T10:28:17.936Z"
    }
   },
   "outputs": [],
   "source": [
    "library(boot)\n",
    "fc <- function(d, i){ \n",
    "    d2 <- d[i,]\n",
    "    return(statistic=dispImp(d2$sex,d2$income)[2])\n",
    "}\n",
    "set.seed(11)\n",
    "bootDI <- boot(datBas,fc, R=1000)\n",
    "bootDI"
   ]
  },
  {
   "cell_type": "code",
   "execution_count": null,
   "metadata": {
    "ExecuteTime": {
     "end_time": "2020-03-22T10:29:27.863623Z",
     "start_time": "2020-03-22T10:28:17.940Z"
    }
   },
   "outputs": [],
   "source": [
    "boot.ci(boot.out = bootDI, type = \"perc\")"
   ]
  },
  {
   "cell_type": "markdown",
   "metadata": {},
   "source": [
    "**Q** Comparer l'approximation par delta method et l'estimation bootstrap de l'intervalle de confiance.\n",
    "\n",
    "**Q** Compte tenu des temps de calcul, que privilégier?\n",
    "\n",
    "L'intervalle est finalement estimé sur l'échantillon test afin de comparer avec ces différentes prévisions."
   ]
  },
  {
   "cell_type": "code",
   "execution_count": null,
   "metadata": {},
   "outputs": [],
   "source": [
    "ic=round(dispImp(daTest[,\"sex\"],daTest[,\"income\"]),3)\n",
    "matRes[1,]=c(ic, 1)\n",
    "ic"
   ]
  },
  {
   "cell_type": "markdown",
   "metadata": {},
   "source": [
    "**Q** Que dire de la taille de l'intervalle de confiance?"
   ]
  },
  {
   "cell_type": "markdown",
   "metadata": {},
   "source": [
    "###  Effet disproportionné des prévisions \n",
    "Le même ratio ou impact disproportionné calculé sur les prévisions $g(X)$ de $Y$ plutôt que sur $Y$ mesure explicitement l'effet de la prévision. Il revient à tester l'égalité des taux de prévision favorable entre les deux groupes. \n",
    "\n",
    "La valeur seuil de la probabilité pour prédire le niveau de revenu est fixée par défaut à $0.5$.\n",
    "\n",
    "#### Régression logistique"
   ]
  },
  {
   "cell_type": "code",
   "execution_count": null,
   "metadata": {
    "ExecuteTime": {
     "end_time": "2020-03-22T10:29:27.879555Z",
     "start_time": "2020-03-22T10:28:18.095Z"
    }
   },
   "outputs": [],
   "source": [
    "Yhat=as.factor(pred.log>0.5)"
   ]
  },
  {
   "cell_type": "code",
   "execution_count": null,
   "metadata": {
    "ExecuteTime": {
     "end_time": "2020-03-22T10:29:27.896673Z",
     "start_time": "2020-03-22T10:28:18.101Z"
    }
   },
   "outputs": [],
   "source": [
    "ic=round(dispImp(daTest[,\"sex\"],Yhat),3)\n",
    "matRes[2,1:3]=ic\n",
    "ic"
   ]
  },
  {
   "cell_type": "markdown",
   "metadata": {},
   "source": [
    "#### Arbre binaire"
   ]
  },
  {
   "cell_type": "code",
   "execution_count": null,
   "metadata": {},
   "outputs": [],
   "source": [
    "ic=round(dispImp(daTest[,\"sex\"],pred.tree),3)\n",
    "matRes[3,1:3]=ic\n",
    "ic"
   ]
  },
  {
   "cell_type": "markdown",
   "metadata": {},
   "source": [
    "#### *Random Forest*"
   ]
  },
  {
   "cell_type": "code",
   "execution_count": null,
   "metadata": {
    "ExecuteTime": {
     "end_time": "2020-03-22T10:29:27.926111Z",
     "start_time": "2020-03-22T10:28:18.174Z"
    },
    "scrolled": true
   },
   "outputs": [],
   "source": [
    "ic=round(dispImp(daTest[,\"sex\"],pred.rf),3)\n",
    "matRes[6,1:3]=ic\n",
    "ic"
   ]
  },
  {
   "cell_type": "markdown",
   "metadata": {},
   "source": [
    "**Q** Comparer les trois intervalles de confiance de l'estimation du *DI* dans le cas des données initiales, de la prévision par régression logistique et de celle par forêt aléatoire. Conclusion?\n",
    "\n",
    "#### Effet disproportionné des prévisions sans la variable sensible genre"
   ]
  },
  {
   "cell_type": "code",
   "execution_count": null,
   "metadata": {
    "ExecuteTime": {
     "end_time": "2020-03-22T10:29:27.948769Z",
     "start_time": "2020-03-22T10:28:18.337Z"
    }
   },
   "outputs": [],
   "source": [
    "Yhat_g=as.factor(pred_g.log>0.5)\n",
    "ic=round(dispImp(daTest[,\"sex\"],Yhat_g),3)\n",
    "matRes[4,1:3]=ic\n",
    "ic"
   ]
  },
  {
   "cell_type": "markdown",
   "metadata": {},
   "source": [
    "**Q** Que devient le DI avec une prévision n'utilisant pas la variable sensible?\n",
    "\n",
    "Le [calepin long](https://github.com/wikistat/Fair-ML-4-Ethical-AI/blob/master/AdultCensus/AdultCensus-R-biasDetectionLong.ipynb) vérifie ces résultats en considérant (validation croisée *Monte Carlo*) 20 réplications de la séparation des échantillons d'apprentissage et de test sur lesquels sont entraînés trois algorithmes: régression logistique, arbre de décision, *random forest*, avant d'évaluer le DI observé sur la prévision de l'échantillon test. \n",
    "\n",
    "Comme attendu, la précision dépend fortement de l'algorithme choisi mais aussi, c'est important et moins attendu, de l'estimation du *DI*. De façon relativement contre-intuitive, meilleure est la précision et moins le biais est renforcé par rapport à celui `DIbase` des données d'entraînement. Mais, pour un algorithme donné, le *DI* n'est pas corrélé à la précision sur un échantillon d'apprentissage.\n",
    "\n",
    "**Q** Conclusion partielle sur l'impact de chaque algorithme, dont il faudrait aussi prendre en compte les capacités d'interprétabilité, surtout vis-à-vis de la loi américaine.\n",
    "\n",
    "**Attention** comme le rappelle Friedler et al. (2019) les résultats et conclusions peuvent changer d'un jeu de données à un autre. C'est déjà bien connu en ce qui concerne la précision de la prévision, il est nécessaire de l'intégrer dans la gestion du biais. Les résultats présentés dans ce tutoriel, sont sur certains points, différents de ceux de Friedler et al. (2019). La principale raison en est sans doute la différence de stratégie adoptée pour le traitement préalable des données. Par principe, Friedler et al. (2019) analysent sans aucune perspective statistique élémentaire les données brutes et donc sans aucun traitement préalable. Il y a peut être aussi, à vérifier, des différences d'implémentation entre les versions R et Python des algorithmes."
   ]
  },
  {
   "cell_type": "markdown",
   "metadata": {},
   "source": [
    "###  Effet disproportionné *vs. Testing*\n",
    "#### Enquête commanditée par la DARES\n",
    "Le *testing* est, à l'origine, une méthode usuelle permettant de détecter une discrimination *directe* opérée par un humain. Elle est \"adaptée\" (Riach et Rich 2002) et déployée par la ([DARES](http://dares.travail-emploi.gouv.fr/dares-etudes-et-statistiques/etudes-et-syntheses/dares-analyses-dares-indicateurs-dares-resultats/testing)) du Ministère du Travail  (cf. [article Le Monde 2020](https://www.lemonde.fr/societe/article/2020/01/08/une-etude-montre-des-discriminations-a-l-embauche-significatives-en-fonction-de-l-origine_6025227_3224.html)) à la détection par enquête d'une discrimination indirecte envers un groupe. Il consiste à évaluer la variabilité d'une décision lorsque seule la modalité de la variable sensible est modifiée. \n",
    "\n",
    "Les calculs ci-dessous permettent de reproduire les résultats globaux de la dernière enquête de la DARES."
   ]
  },
  {
   "cell_type": "code",
   "execution_count": null,
   "metadata": {
    "ExecuteTime": {
     "end_time": "2020-03-22T10:29:27.993612Z",
     "start_time": "2020-03-22T10:28:18.519Z"
    }
   },
   "outputs": [],
   "source": [
    "origine.i=matrix(0,10000,1);reponse.i=matrix(0,10000,1)\n",
    "origine.i[4536:8910]=1;origine.i[9376:10000]=1\n",
    "reponse.i[8911:10000]=1\n",
    "origine=factor(origine.i,labels=c(\"Maghreb\",\"France\"))\n",
    "reponse=factor(reponse.i,labels=c(\"Negative\",\"Positive\"))\n",
    "table(reponse, origine)"
   ]
  },
  {
   "cell_type": "code",
   "execution_count": null,
   "metadata": {
    "ExecuteTime": {
     "end_time": "2020-03-22T10:29:28.027490Z",
     "start_time": "2020-03-22T10:28:18.524Z"
    }
   },
   "outputs": [],
   "source": [
    "100*465/5000;100*625/5000; 465/625"
   ]
  },
  {
   "cell_type": "markdown",
   "metadata": {},
   "source": [
    "Les ratios sont bien ceux de l'enquête. Il y a de très nombreuses façons de les comparer afin de conclure ou non à une discirmination jugée significative. Que donne l'évaluation de l'effet disproportionné?"
   ]
  },
  {
   "cell_type": "code",
   "execution_count": null,
   "metadata": {
    "ExecuteTime": {
     "end_time": "2020-03-22T10:29:28.088088Z",
     "start_time": "2020-03-22T10:28:18.607Z"
    }
   },
   "outputs": [],
   "source": [
    "options(repr.plot.width=4, repr.plot.height=4)\n",
    "mosaicplot(table(origine,reponse),main=\"\",col=\"lightblue\",cex=1.3)"
   ]
  },
  {
   "cell_type": "code",
   "execution_count": null,
   "metadata": {
    "ExecuteTime": {
     "end_time": "2020-03-22T10:29:28.124484Z",
     "start_time": "2020-03-22T10:28:18.613Z"
    }
   },
   "outputs": [],
   "source": [
    "round(dispImp(origine,reponse),3)"
   ]
  },
  {
   "cell_type": "markdown",
   "metadata": {},
   "source": [
    "**Q** Cette enquête par *testing* met-elle en évidence une discrimination statistiquement significative au regard du règlement américain (règle des 4/5ème)?\n",
    "\n",
    "**Q** Que dire de la précision de l'évaluation du *DI* avec 10 000 CVs envoyés? Serait-il possible de conclure pour une entreprise donnée?"
   ]
  },
  {
   "cell_type": "markdown",
   "metadata": {},
   "source": [
    "#### *Testing* d'un algorithme d'apprentissage\n",
    "Que se passe-t-il si le *testing* est appliqué à une décision automatique pilotée par un algorithme d'apprentissage? \n",
    "\n",
    "Les prévisions de revenu sont calculées pour les mêmes personnes de l'échantillon test en prenant en compte le genre initial puis le genre opposé. Dans ce cas, une femme pour laquelle la prévision de revenu ou solvabilité change lorsque la variable genre passe de `Female` à `Male` serait en droit d'intenter une action en justice pour discrimination directe. "
   ]
  },
  {
   "cell_type": "code",
   "execution_count": null,
   "metadata": {
    "ExecuteTime": {
     "end_time": "2020-03-22T10:29:28.161744Z",
     "start_time": "2020-03-22T10:28:18.769Z"
    }
   },
   "outputs": [],
   "source": [
    "daTest2=daTest\n",
    "# Changement de genre\n",
    "daTest2$sex=as.factor(ifelse(daTest$sex==\"Male\",\"Female\",\"Male\"))\n",
    "# Prévision du \"nouvel\" échantillon test\n",
    "pred2.log=predict(log.lm,daTest2,type=\"response\")\n",
    "Yhat2=as.factor(pred2.log>0.5)"
   ]
  },
  {
   "cell_type": "code",
   "execution_count": null,
   "metadata": {
    "ExecuteTime": {
     "end_time": "2020-03-22T10:29:28.181824Z",
     "start_time": "2020-03-22T10:28:18.773Z"
    }
   },
   "outputs": [],
   "source": [
    "table(Yhat,Yhat2)"
   ]
  },
  {
   "cell_type": "code",
   "execution_count": null,
   "metadata": {
    "ExecuteTime": {
     "end_time": "2020-03-22T10:29:28.221105Z",
     "start_time": "2020-03-22T10:28:18.776Z"
    }
   },
   "outputs": [],
   "source": [
    "# répartition par genre\n",
    "table(Yhat,Yhat2,daTest$sex)"
   ]
  },
  {
   "cell_type": "markdown",
   "metadata": {},
   "source": [
    "**Q** Compléter: Il y a $x+y$ personnes dont la prévision de revenu change lorsqu'elles changent de genre. Et le changement est dans le sens attendu.\n",
    "- $x$ femmes passent d'une prévision de revenu faible à une prévision de revenu élevé\n",
    "- $y$ hommes prennnent le chemin inverse  lorsqu'ils deviennent des femmes; ces hommes bénificiaient donc d'une discrimination positive!\n",
    "\n",
    "Quels résultats fourniraient une enquête par testing consistant à envoyer deux fois les \"dossiers\" à l'algorithme, une fois pour chaque genre? Il faut donc considérer deux fois plus de personnes en concaténant les deux prévisions. Ceci conduit à la table de contingence ci-dessous. "
   ]
  },
  {
   "cell_type": "code",
   "execution_count": null,
   "metadata": {
    "ExecuteTime": {
     "end_time": "2020-03-22T10:29:28.270819Z",
     "start_time": "2020-03-22T10:28:18.848Z"
    }
   },
   "outputs": [],
   "source": [
    "# fonction de concaténation de deux vecteurs de type factor\n",
    "c.factor <- function(..., recursive=TRUE) unlist(list(...), recursive=recursive) \n",
    "Yhat=factor(Yhat,labels=c(\"incB\",\"incH\")); Yhat2=factor(Yhat2,labels=c(\"incB\",\"incH\"))\n",
    "mosaicplot(table(c.factor(daTest$sex,daTest2[,\"sex\"]),c.factor(Yhat,Yhat2)),main=\"\",col=\"lightblue\",cex=.8)"
   ]
  },
  {
   "cell_type": "code",
   "execution_count": null,
   "metadata": {
    "ExecuteTime": {
     "end_time": "2020-03-22T10:29:28.288632Z",
     "start_time": "2020-03-22T10:28:18.852Z"
    }
   },
   "outputs": [],
   "source": [
    "ic=round(dispImp(c.factor(daTest$sex,daTest2[,\"sex\"]),c.factor(Yhat,Yhat2)),3)\n",
    "matRes[5,1:3]=ic\n",
    "ic"
   ]
  },
  {
   "cell_type": "markdown",
   "metadata": {
    "ExecuteTime": {
     "end_time": "2020-02-23T08:07:02.630240Z",
     "start_time": "2020-02-23T08:07:02.496Z"
    }
   },
   "source": [
    "**Q** Conclusion: le testing est-il adapté à détecter une disrimination algorithmique?\n",
    "\n",
    "**Q** A quoi est principalement due cette incapacité? Penser au rôle de la variable genre dans les prévisions."
   ]
  },
  {
   "cell_type": "markdown",
   "metadata": {},
   "source": [
    "#### *Testing* et prévision \"déloyale\" \n",
    "Une façon simple pour une entreprise de se prémunir contre une opération de *testing* consiste à fixer comme probablité prédite le maximum des deux probablités obtenues en échangeant les modalités de la variable sensible. De façon générale, choisir la situation la plus favorable pour la personne quelque soit le genre observé. La discrimination individuelle repérable par *testing* est neutralisée et l'influence sur le taux d'erreur quasi négligeable. "
   ]
  },
  {
   "cell_type": "code",
   "execution_count": null,
   "metadata": {
    "ExecuteTime": {
     "end_time": "2020-03-22T10:29:28.327315Z",
     "start_time": "2020-03-22T10:28:19.012Z"
    }
   },
   "outputs": [],
   "source": [
    "fairPredictGenre=pmax(pred.log, pred2.log) \n",
    "confMat=table(fairPredictGenre>0.5,daTest$income)\n",
    "confMat;err=tauxErr(confMat)\n",
    "matRes[5,4]=(100-err)/100\n",
    "err"
   ]
  },
  {
   "cell_type": "code",
   "execution_count": null,
   "metadata": {
    "ExecuteTime": {
     "end_time": "2020-03-22T10:29:28.356015Z",
     "start_time": "2020-03-22T10:28:19.015Z"
    }
   },
   "outputs": [],
   "source": [
    "round(dispImp(daTest$sex,as.factor(pred.log>0.5)),3)\n",
    "round(dispImp(daTest$sex,as.factor(fairPredictGenre>0.5)),3)"
   ]
  },
  {
   "cell_type": "markdown",
   "metadata": {},
   "source": [
    "**Attention** Cette procédure masque de façon **intentionnelle** la discrimination directe détectable par testing tout en favorisant une discrimination indirecte, elle est clairement **condamnable au sens du code pénal**. Soyez prudent dans vos futures pratiques professionnelles!"
   ]
  },
  {
   "cell_type": "markdown",
   "metadata": {},
   "source": [
    "##  Expliquer, atténuer la discrimination ?\n",
    "De façon notable, le modèle de régression logistique reproduit le biais social et le renforce en introduisant donc de la discrimination; c'est moins net pour l'algorithme des forêts aléatoires,  Est-il possible d'expliquer ce comportement ou plus précisément d'utiliser le bon modèle ou bon algorithme qui l'évite? Le [calepin long](https://github.com/wikistat/Fair-ML-4-Ethical-AI/blob/master/AdultCensus/AdultCensus-R-biasDetectionLong.ipynb) compare différents algorithmes selon diverses situations notamment en attribuant sans succès plus de poids aux femmes afin de compenser leur sous-représentation. \n",
    "\n",
    "La littérature propose une avalanche de méthodes pour débiaiser une décision algorithmique. Trois approches sont développées:\n",
    "- *Pre-processing* en débiaisant les données d'apprentissage;\n",
    "- *Processing* en pénalisant la fonction objectif avec une contrainte d'équité mais l'optimisation n'est plus convexe;\n",
    "- *Post-processing* en dé-biaisant les décisions.\n",
    "\n",
    "Friedler et al. (2019) et le site [AIF360](https://aif360.mybluemix.net/) proposent une comparaison numérique systématique de quelques unes de ces approches sur plusieurs jeux de données publiques donc celui de ce tutoriel. \n",
    "\n",
    "Une version rudimentaire mais efficace de post-processing consiste à estimer deux modèles ou entraîner deux algorithmes, l'un pour les femmes et l'autre pour les hommes puis d'adapter le seuil de décision afin de réduire l'effet disproportioné tout en contrôlant le taux d'erreur. Cette procédure est testée dans les cas  d'un arbre binaire et des forêts aléatoires. C'est une façon d'introduire une dose de discrimination positive afin d'infléchir vers plus d'équité sociale.\n",
    "\n",
    "Une première partie consiste à estimer séparément les modèles avant d'introduire de la discrimination positive dans une deuxième partie.\n",
    "\n",
    "**Remarque** Il n'est sans doute pas nécessaire d'estimer deux modèles de forêts aléatoires selon le genre. Le seul post-processing des seuils de décision devrait suffire. \n",
    "\n",
    "### Séparation des deux échantillons\n",
    "Les échantillons sont séparés en deux parties."
   ]
  },
  {
   "cell_type": "code",
   "execution_count": null,
   "metadata": {
    "ExecuteTime": {
     "end_time": "2020-03-22T10:29:28.411876Z",
     "start_time": "2020-03-22T10:28:19.197Z"
    }
   },
   "outputs": [],
   "source": [
    "datAppF=subset(datApp, sex == 'Female') \n",
    "datAppM=subset(datApp, sex == 'Male')\n",
    "datValF=subset(datVal, sex == 'Female') \n",
    "datValM=subset(datVal, sex == 'Male')\n",
    "daTestF=subset(daTest, sex == 'Female')\n",
    "daTestM=subset(daTest, sex == 'Male')\n",
    "summary(datAppM)"
   ]
  },
  {
   "cell_type": "markdown",
   "metadata": {},
   "source": [
    "###  Régression logistique\n",
    "Estimation des deux modèles."
   ]
  },
  {
   "cell_type": "code",
   "execution_count": null,
   "metadata": {
    "ExecuteTime": {
     "end_time": "2020-03-22T10:29:29.016959Z",
     "start_time": "2020-03-22T10:28:19.307Z"
    },
    "scrolled": true
   },
   "outputs": [],
   "source": [
    "reg.log=glm(income~.,data=datApp,family=binomial)\n",
    "# estimation des deux modèles\n",
    "reg.logF=glm(income~.,data=datAppF[,-6],family=binomial)\n",
    "reg.logM=glm(income~.,data=datAppM[,-6],family=binomial)\n",
    "# comparaison des paramètres\n",
    "summary(reg.logF);summary(reg.logM)"
   ]
  },
  {
   "cell_type": "markdown",
   "metadata": {},
   "source": [
    "**Q** La comparaison des paramètres des deux modèles apporte-t-elle des informations?"
   ]
  },
  {
   "cell_type": "code",
   "execution_count": null,
   "metadata": {
    "ExecuteTime": {
     "end_time": "2020-03-22T10:29:29.057811Z",
     "start_time": "2020-03-22T10:28:19.312Z"
    }
   },
   "outputs": [],
   "source": [
    "# prévision des modèles\n",
    "yHat=predict(reg.log,newdata=daTest,type=\"response\")\n",
    "yHatF=predict(reg.logF,newdata=daTestF,type=\"response\")\n",
    "yHatM=predict(reg.logM,newdata=daTestM,type=\"response\")\n",
    "# compilation des prévisions\n",
    "yHatFM=c(yHatF,yHatM)"
   ]
  },
  {
   "cell_type": "code",
   "execution_count": null,
   "metadata": {
    "ExecuteTime": {
     "end_time": "2020-03-22T10:29:29.092408Z",
     "start_time": "2020-03-22T10:28:19.316Z"
    }
   },
   "outputs": [],
   "source": [
    "daTestFM=rbind(daTestF,daTestM)\n",
    "dim(daTestFM)"
   ]
  },
  {
   "cell_type": "code",
   "execution_count": null,
   "metadata": {
    "ExecuteTime": {
     "end_time": "2020-03-22T10:29:29.120234Z",
     "start_time": "2020-03-22T10:28:19.321Z"
    }
   },
   "outputs": [],
   "source": [
    "# erreurs cumulées\n",
    "table(yHatFM>0.5,daTestFM$income)"
   ]
  },
  {
   "cell_type": "code",
   "execution_count": null,
   "metadata": {
    "ExecuteTime": {
     "end_time": "2020-03-22T10:29:29.149172Z",
     "start_time": "2020-03-22T10:28:19.325Z"
    }
   },
   "outputs": [],
   "source": [
    "table(yHat>0.5,daTest$income)"
   ]
  },
  {
   "cell_type": "code",
   "execution_count": null,
   "metadata": {
    "ExecuteTime": {
     "end_time": "2020-03-22T10:29:29.178234Z",
     "start_time": "2020-03-22T10:28:19.330Z"
    }
   },
   "outputs": [],
   "source": [
    "tauxErr(table(yHatFM>0.5,daTestFM$income))"
   ]
  },
  {
   "cell_type": "code",
   "execution_count": null,
   "metadata": {
    "ExecuteTime": {
     "end_time": "2020-03-22T10:29:29.198020Z",
     "start_time": "2020-03-22T10:28:19.335Z"
    }
   },
   "outputs": [],
   "source": [
    "tauxErr(table(yHat>0.5,daTest$income))"
   ]
  },
  {
   "cell_type": "markdown",
   "metadata": {},
   "source": [
    "**Q** Que devient l'erreur de prévision une fois que les deux modèles sont associés avec le même seuil de décision?"
   ]
  },
  {
   "cell_type": "code",
   "execution_count": null,
   "metadata": {
    "ExecuteTime": {
     "end_time": "2020-03-22T10:29:29.223712Z",
     "start_time": "2020-03-22T10:28:19.443Z"
    }
   },
   "outputs": [],
   "source": [
    "# biais cumulés vs. biais \n",
    "round(dispImp(daTestFM[,\"sex\"],as.factor(yHatFM>0.5)),3); round(dispImp(daTest[,\"sex\"],as.factor(yHat>0.5)),3)"
   ]
  },
  {
   "cell_type": "code",
   "execution_count": null,
   "metadata": {
    "ExecuteTime": {
     "end_time": "2020-03-22T10:29:29.252714Z",
     "start_time": "2020-03-22T10:28:19.448Z"
    }
   },
   "outputs": [],
   "source": [
    "# Rappel: Biais de la base de test\n",
    "round(dispImp(daTestFM[,\"sex\"],daTestFM[,\"income\"]),3)"
   ]
  },
  {
   "cell_type": "markdown",
   "metadata": {},
   "source": [
    "**Q** Que devient le bais?"
   ]
  },
  {
   "cell_type": "markdown",
   "metadata": {},
   "source": [
    "###  Arbre binaire \n",
    "L'objectif est de rechercher un moins mauvais compromis entre précision, interprétatbilité et biais. On se limite à des arbres simples par l'introduction d'une pénalisation sous optimale qui impose un nombre limité de feuilles. Ce paramètre mériterait d'être \"optimisé\" mais la fonction objectif n'est pas claire, dépendant d'impératifs politiques et commerciaux dans la recherche du compromis. Nous retenons le choix opéré précédemment sur l'échantillon de validation."
   ]
  },
  {
   "cell_type": "code",
   "execution_count": null,
   "metadata": {},
   "outputs": [],
   "source": [
    "library(rpart)\n",
    "# Modèle initial\n",
    "tree.init=tree.int=rpart(income~.,data=datApp,control=rpart.control(cp=0.005))\n",
    "# estimation des deux modèles\n",
    "tree.F=rpart(income~.,data=datAppF[,-6],control=rpart.control(cp=0.005))\n",
    "tree.M=rpart(income~.,data=datAppM[,-6],control=rpart.control(cp=0.005))\n",
    "# comparaison des arbres"
   ]
  },
  {
   "cell_type": "code",
   "execution_count": null,
   "metadata": {},
   "outputs": [],
   "source": [
    "options(repr.plot.width=10, repr.plot.height=10)\n",
    "plot(as.party(tree.F), type=\"simple\")"
   ]
  },
  {
   "cell_type": "code",
   "execution_count": null,
   "metadata": {},
   "outputs": [],
   "source": [
    "plot(as.party(tree.M), type=\"simple\")"
   ]
  },
  {
   "cell_type": "code",
   "execution_count": null,
   "metadata": {},
   "outputs": [],
   "source": [
    "# prévision des modèles\n",
    "yHatTree=predict(tree.init,newdata=daTest,type=\"class\")\n",
    "yHatFtree=predict(tree.F,newdata=daTestF,type=\"class\")\n",
    "yHatMtree=predict(tree.M,newdata=daTestM,type=\"class\")\n",
    "# compilation des prévisions\n",
    "yHatFMtree=c(yHatFtree,yHatMtree)"
   ]
  },
  {
   "cell_type": "code",
   "execution_count": null,
   "metadata": {},
   "outputs": [],
   "source": [
    "# erreurs cumulées vs. erreur initiale de RF\n",
    "table(yHatFMtree,daTestFM$income); table(yHatTree,daTest$income)"
   ]
  },
  {
   "cell_type": "code",
   "execution_count": null,
   "metadata": {},
   "outputs": [],
   "source": [
    "tauxErr(table(yHatFMtree,daTestFM$income))\n",
    "tauxErr(table(yHatTree,daTest$income))"
   ]
  },
  {
   "cell_type": "code",
   "execution_count": null,
   "metadata": {},
   "outputs": [],
   "source": [
    "# Biais cumulé vs. biais du modèle initial vs. biais de la base\n",
    "round(dispImp(daTestFM[,\"sex\"],as.factor(yHatFMtree)),3)\n",
    "round(dispImp(daTest[,\"sex\"],as.factor(yHatTree)),3)\n",
    "round(dispImp(daTestFM[,\"sex\"],daTestFM[,\"income\"]),3)"
   ]
  },
  {
   "cell_type": "markdown",
   "metadata": {},
   "source": [
    "###  *Random Forest*"
   ]
  },
  {
   "cell_type": "code",
   "execution_count": null,
   "metadata": {
    "ExecuteTime": {
     "end_time": "2020-03-22T10:30:19.647142Z",
     "start_time": "2020-03-22T10:28:19.666Z"
    }
   },
   "outputs": [],
   "source": [
    "library(randomForest)\n",
    "# Modèle initial\n",
    "RFinit=randomForest(income~.,data=datApp)\n",
    "# Modèle en changeant les poids\n",
    "RFinitW=randomForest(income~.,data=datApp,weigth=w)\n",
    "# estimation des deux modèles\n",
    "RF.F=randomForest(income~.,data=datAppF[,-6])\n",
    "RF.M=randomForest(income~.,data=datAppM[,-6])\n",
    "# comparaison des paramètres"
   ]
  },
  {
   "cell_type": "code",
   "execution_count": null,
   "metadata": {
    "ExecuteTime": {
     "end_time": "2020-03-22T10:30:21.439024Z",
     "start_time": "2020-03-22T10:28:19.672Z"
    }
   },
   "outputs": [],
   "source": [
    "# prévision des modèles\n",
    "yHatrf=predict(RFinit,newdata=daTest,type=\"response\")\n",
    "yHatrfW=predict(RFinitW,newdata=daTest,type=\"response\")\n",
    "yHatFrf=predict(RF.F,newdata=daTestF,type=\"response\")\n",
    "yHatMrf=predict(RF.M,newdata=daTestM,type=\"response\")\n",
    "# compilation des prévisions\n",
    "yHatFMrf=c(yHatFrf,yHatMrf)"
   ]
  },
  {
   "cell_type": "code",
   "execution_count": null,
   "metadata": {
    "ExecuteTime": {
     "end_time": "2020-03-22T10:30:21.472726Z",
     "start_time": "2020-03-22T10:28:19.676Z"
    }
   },
   "outputs": [],
   "source": [
    "# erreurs cumulées vs. erreur initiale de RF\n",
    "table(yHatFMrf,daTestFM$income); table(yHatrf,daTest$income)"
   ]
  },
  {
   "cell_type": "markdown",
   "metadata": {},
   "source": [
    "**Q** Comparer les erreurs."
   ]
  },
  {
   "cell_type": "code",
   "execution_count": null,
   "metadata": {
    "ExecuteTime": {
     "end_time": "2020-03-22T10:30:21.498267Z",
     "start_time": "2020-03-22T10:28:19.680Z"
    }
   },
   "outputs": [],
   "source": [
    "tauxErr(table(yHatFMrf,daTestFM$income))\n",
    "tauxErr(table(yHatrf,daTest$income))\n",
    "tauxErr(table(yHatrfW,daTest$income))"
   ]
  },
  {
   "cell_type": "code",
   "execution_count": null,
   "metadata": {
    "ExecuteTime": {
     "end_time": "2020-03-22T10:30:21.529040Z",
     "start_time": "2020-03-22T10:28:19.685Z"
    }
   },
   "outputs": [],
   "source": [
    "# Biais cumulé vs. biais du modèle initial vs. biais de la base\n",
    "round(dispImp(daTestFM[,\"sex\"],as.factor(yHatFMrf)),3)\n",
    "round(dispImp(daTest[,\"sex\"],as.factor(yHatrf)),3)\n",
    "round(dispImp(daTest[,\"sex\"],as.factor(yHatrfW)),3)\n",
    "round(dispImp(daTestFM[,\"sex\"],daTestFM[,\"income\"]),3)"
   ]
  },
  {
   "cell_type": "markdown",
   "metadata": {},
   "source": [
    "**Q** Comparer les biais.\n",
    "### Atténuation de la discrimination par *post-processing*\n",
    "La procédure (*post-processing*) ci-dessous est la plus simple. Elle consiste à introduire une forme de discrimination positive en intervenant sur le seuil de décision pour les femmes tout en conservant celui par défaut de $0.5$ pour les hommes afin de ne pas plus les pénaliser. Elle est appliquée dans ce tutoriel aux seuls algorithmes arbre et forêt aléatoire. Une procédure graphique d'optimisation a été appliquée mais non reproduite afin de contrôler, sur l'échantillon de validation, l'effet de la correction à la fois sur le biais et sur l'erreur de prévision. Le seuil choisi ($0.3$) pour les femmes avec les forêts aléatoires pour décider d'un revenu élevé ($>50$k$) en découle. *Attention* ce seuil peut dépendre de l'échantillon validation et donc de l'initialisation du générateur de nombres aléatoires. Pour illustrer le choix du seuil le tracé des courbes ROC ci-dessous est instructif.\n",
    "\n",
    "#### Tracé des courbes ROC"
   ]
  },
  {
   "cell_type": "code",
   "execution_count": null,
   "metadata": {},
   "outputs": [],
   "source": [
    "library(ROCR)\n",
    "options(repr.plot.width=15, repr.plot.height=15)\n",
    "ROCtreeM=predict(tree.M,newdata=datValM,type=\"prob\")[,2]\n",
    "predTreeM=prediction(ROCtreeM,datValM$income)\n",
    "perfTreeM=performance(predTreeM,\"tpr\",\"fpr\")\n",
    "ROCtreeF=predict(tree.F,newdata=datValF,type=\"prob\")[,2]\n",
    "predTreeF=prediction(ROCtreeF,datValF$income)\n",
    "perfTreeF=performance(predTreeF,\"tpr\",\"fpr\")\n",
    "\n",
    "ROCrfM=predict(RF.M,newdata=datValM,type=\"prob\")[,2]\n",
    "predRfM=prediction(ROCrfM,datValM$income)\n",
    "perfRfM=performance(predRfM,\"tpr\",\"fpr\")\n",
    "ROCrfF=predict(RF.F,newdata=datValF,type=\"prob\")[,2]\n",
    "predRfF=prediction(ROCrfF,datValF$income)\n",
    "perfRfF=performance(predRfF,\"tpr\",\"fpr\")\n",
    "\n",
    "par(cex=1.8,lwd=2)\n",
    "plot(perfTreeM,col=1, print.cutoffs.at=c(0.5))\n",
    "plot(perfTreeF,col=2, print.cutoffs.at=c(0.1, 0.5),add=TRUE)\n",
    "plot(perfRfM,col=3, print.cutoffs.at=c(0.5),add=TRUE)\n",
    "plot(perfRfF,col=4, print.cutoffs.at=c(0.3,0.5),add=TRUE)\n",
    "legend(\"bottomright\",legend=c(\"arbreMasc\",\"arbreFem\",\"RFmasc\",\"RFfem\"),col=c(1:4),cex=1,lwd=3)"
   ]
  },
  {
   "cell_type": "markdown",
   "metadata": {},
   "source": [
    "**Objectif**: rapprocher les valeurs estimées sur l'échantillon de validation des taux de faux positifs tout en réduisant le biais systémique sans trop pénaliser les erreurs...\n",
    "\n",
    "**Q** Arbres binaires: Commenter l'\"optimalité\" des choix des seuils $0.1$ pour les femmes et $0.5$ pour les hommes à la vue de ces courbes ROC.\n",
    "\n",
    "**Q** Même chose pour les forêts aléatoires: $0.3$ et $0.5$."
   ]
  },
  {
   "cell_type": "markdown",
   "metadata": {},
   "source": [
    "#### Arbres binaires avec discriminaiton positive"
   ]
  },
  {
   "cell_type": "code",
   "execution_count": null,
   "metadata": {},
   "outputs": [],
   "source": [
    "# prévision des modèles en modifiant le seuil des femmes\n",
    "yHatFtreeDP=predict(tree.F,newdata=daTestF,type=\"prob\")[,2]>0.1\n",
    "yHatMtreeDP=predict(tree.M,newdata=daTestM,type=\"prob\")[,2]>0.5\n",
    "# compilation des prévisions\n",
    "yHatFMtreeDP=c(yHatFtreeDP,yHatMtreeDP)"
   ]
  },
  {
   "cell_type": "code",
   "execution_count": null,
   "metadata": {},
   "outputs": [],
   "source": [
    "table(yHatFMtreeDP,daTestFM$income)"
   ]
  },
  {
   "cell_type": "code",
   "execution_count": null,
   "metadata": {},
   "outputs": [],
   "source": [
    "err=tauxErr(table(yHatFMtreeDP,daTestFM$income))\n",
    "matRes[7,4]=(100-err)/100\n",
    "err"
   ]
  },
  {
   "cell_type": "code",
   "execution_count": null,
   "metadata": {},
   "outputs": [],
   "source": [
    "ic=round(dispImp(daTestFM[,\"sex\"],as.factor(yHatFMtreeDP)),3)\n",
    "matRes[7,1:3]=ic\n",
    "ic"
   ]
  },
  {
   "cell_type": "markdown",
   "metadata": {},
   "source": [
    "#### Forêts aléatoires avec discrimination positive"
   ]
  },
  {
   "cell_type": "code",
   "execution_count": null,
   "metadata": {
    "ExecuteTime": {
     "end_time": "2020-03-22T10:30:22.136477Z",
     "start_time": "2020-03-22T10:28:19.792Z"
    }
   },
   "outputs": [],
   "source": [
    "# prévision des modèles en modifiant le seuil des femmes\n",
    "yHatFrfDP=predict(RF.F,newdata=daTestF,type=\"prob\")[,2]>0.3\n",
    "yHatMrfDP=predict(RF.M,newdata=daTestM,type=\"prob\")[,2]>0.5\n",
    "# compilation des prévisions\n",
    "yHatFMrfDP=c(yHatFrfDP,yHatMrfDP)"
   ]
  },
  {
   "cell_type": "code",
   "execution_count": null,
   "metadata": {
    "ExecuteTime": {
     "end_time": "2020-03-22T10:30:22.150808Z",
     "start_time": "2020-03-22T10:28:19.799Z"
    }
   },
   "outputs": [],
   "source": [
    "table(yHatFMrfDP,daTestFM$income)"
   ]
  },
  {
   "cell_type": "code",
   "execution_count": null,
   "metadata": {
    "ExecuteTime": {
     "end_time": "2020-03-22T10:30:22.169554Z",
     "start_time": "2020-03-22T10:28:19.804Z"
    }
   },
   "outputs": [],
   "source": [
    "err=tauxErr(table(yHatFMrfDP,daTestFM$income))\n",
    "matRes[8,4]=(100-err)/100\n",
    "err"
   ]
  },
  {
   "cell_type": "markdown",
   "metadata": {},
   "source": [
    "**Q** Que devient l'erreur de prévision?"
   ]
  },
  {
   "cell_type": "code",
   "execution_count": null,
   "metadata": {
    "ExecuteTime": {
     "end_time": "2020-03-22T10:30:22.193069Z",
     "start_time": "2020-03-22T10:28:19.808Z"
    }
   },
   "outputs": [],
   "source": [
    "ic=round(dispImp(daTestFM[,\"sex\"],as.factor(yHatFMrfDP)),3)\n",
    "matRes[8,1:3]=ic\n",
    "ic"
   ]
  },
  {
   "cell_type": "markdown",
   "metadata": {},
   "source": [
    "**Q** Que devient le biais?\n",
    "###  Synthèse graphique des résultats\n",
    "Les résultats précédents: précisions des prévisions et intervalles de confiance sont collectés et affichés sur le même graphique."
   ]
  },
  {
   "cell_type": "code",
   "execution_count": null,
   "metadata": {},
   "outputs": [],
   "source": [
    "matRes"
   ]
  },
  {
   "cell_type": "markdown",
   "metadata": {},
   "source": [
    "**Attention**: décommenter la commande d'installation ci-dessous lors d'une exécution dans le nuage ou si tout simplement cette librairie n'est pas installée."
   ]
  },
  {
   "cell_type": "code",
   "execution_count": null,
   "metadata": {},
   "outputs": [],
   "source": [
    "# install.packages(\"Publish\")\n",
    "library(Publish)\n",
    "options(repr.plot.width=10, repr.plot.height=5)\n",
    "plotConfidence(x=matRes[,c(\"DI\",\"Lower\",\"Upper\")],\n",
    "               labels=data.frame(\"Model\"=rownames(matRes),\"Accuracy\"=matRes[,\"Accuracy\"]),\n",
    "               points.pch=15,points.cex=3,points.col=rainbow(6),\n",
    "               values=FALSE,xlim=c(0.1,1),lwd=4,cex=1.5,\n",
    "               xlab=\"Disparate Impact\",xlab.cex=1,xratio=0.3,y.title.offset=1)"
   ]
  },
  {
   "cell_type": "markdown",
   "metadata": {},
   "source": [
    "**Q** Comparer les différents bais en tenant compte de l'intersection des intervalles de confiance? Quels sont les algorithmes qui discriminent significativement? Est-il efficace de retirer la variable sensible du modèle? Que dire du *testing*? Comment intervient la discrimination positive ou le post-processing sur les décisions d'un arbre binaire ou  des forêts aléatoires. Est-il efficace? Quel moins mauvais compromis adopter entre précision, interprétabilité et biais?\n",
    "\n",
    "**Attention**, l'atténuation du biais de société pour plus \"d'équité\" impacte également les autes biais, impact qu'il est important de considérer dans la section suivante."
   ]
  },
  {
   "cell_type": "markdown",
   "metadata": {},
   "source": [
    "##  Autres indicateurs de biais / discrimination\n",
    "###  Biais sur les erreurs ou précisions de prévision conditionnelles\n",
    "L'effet disproportionné est une première source de biais ou de discrimination parmi d'autres. Une deuxième, souvent évoquée, concerne les erreurs de prévision ou les précisions selon les modalités de la variable sensible; c'est  l'*overall error equality* ou de façon équivalente l'*overall accuracy equality*.\n",
    "\n",
    "#### Régression logistique linéaire\n",
    "*Overall error equality*"
   ]
  },
  {
   "cell_type": "code",
   "execution_count": null,
   "metadata": {
    "ExecuteTime": {
     "end_time": "2020-03-22T10:39:10.705393Z",
     "start_time": "2020-03-22T10:39:10.440Z"
    }
   },
   "outputs": [],
   "source": [
    "table(pred.log>0.5,daTest$income,daTest$sex)"
   ]
  },
  {
   "cell_type": "code",
   "execution_count": null,
   "metadata": {
    "ExecuteTime": {
     "end_time": "2020-03-22T10:39:24.570558Z",
     "start_time": "2020-03-22T10:39:24.540Z"
    }
   },
   "outputs": [],
   "source": [
    "apply(table(pred.log>0.5,daTest$income,daTest$sex),3,tauxErr)"
   ]
  },
  {
   "cell_type": "markdown",
   "metadata": {},
   "source": [
    "\n",
    "**Q** Quel genre semble défavorisé au regard de ce critère?"
   ]
  },
  {
   "cell_type": "code",
   "execution_count": null,
   "metadata": {
    "ExecuteTime": {
     "end_time": "2020-03-22T10:39:41.729416Z",
     "start_time": "2020-03-22T10:39:41.705Z"
    }
   },
   "outputs": [],
   "source": [
    "source('../Functions/overErrEqual.R')"
   ]
  },
  {
   "cell_type": "code",
   "execution_count": null,
   "metadata": {
    "ExecuteTime": {
     "end_time": "2020-03-22T10:42:22.775866Z",
     "start_time": "2020-03-22T10:42:22.735Z"
    }
   },
   "outputs": [],
   "source": [
    "round(overErrEqual(daTest$sex,daTest$income,as.factor(pred.log>0.5)),2)"
   ]
  },
  {
   "cell_type": "markdown",
   "metadata": {},
   "source": [
    "**Q** Même question."
   ]
  },
  {
   "cell_type": "markdown",
   "metadata": {},
   "source": [
    "#### Arbre binaire"
   ]
  },
  {
   "cell_type": "code",
   "execution_count": null,
   "metadata": {},
   "outputs": [],
   "source": [
    "table(yHatTree,daTest$income,daTest$sex)"
   ]
  },
  {
   "cell_type": "code",
   "execution_count": null,
   "metadata": {},
   "outputs": [],
   "source": [
    "apply(table(yHatTree,daTest$income,daTest$sex),3,tauxErr)"
   ]
  },
  {
   "cell_type": "code",
   "execution_count": null,
   "metadata": {},
   "outputs": [],
   "source": [
    "round(overErrEqual(daTest$sex,daTest$income,yHatTree),2)"
   ]
  },
  {
   "cell_type": "markdown",
   "metadata": {},
   "source": [
    "#### Random forest"
   ]
  },
  {
   "cell_type": "code",
   "execution_count": null,
   "metadata": {
    "ExecuteTime": {
     "end_time": "2020-03-22T10:43:52.534126Z",
     "start_time": "2020-03-22T10:43:52.497Z"
    }
   },
   "outputs": [],
   "source": [
    "apply(table(yHatrf,daTest$income,daTest$sex),3,tauxErr)"
   ]
  },
  {
   "cell_type": "code",
   "execution_count": null,
   "metadata": {
    "ExecuteTime": {
     "end_time": "2020-03-22T10:44:10.443838Z",
     "start_time": "2020-03-22T10:44:10.411Z"
    }
   },
   "outputs": [],
   "source": [
    "round(overErrEqual(daTest$sex,daTest$income,yHatrf),2)"
   ]
  },
  {
   "cell_type": "markdown",
   "metadata": {},
   "source": [
    "**Q** Quel genre semble défavorisé au regard de ce critère?"
   ]
  },
  {
   "cell_type": "markdown",
   "metadata": {},
   "source": [
    "#### Arbre binaire avec discrimination positive"
   ]
  },
  {
   "cell_type": "code",
   "execution_count": null,
   "metadata": {},
   "outputs": [],
   "source": [
    "tauxErr(table(yHatFtreeDP,daTestF$income)); tauxErr(table(yHatMtreeDP,daTestM$income))"
   ]
  },
  {
   "cell_type": "code",
   "execution_count": null,
   "metadata": {},
   "outputs": [],
   "source": [
    "round(overErrEqual(daTestFM[,\"sex\"],daTestFM$income,as.factor(yHatFMtreeDP)),2)"
   ]
  },
  {
   "cell_type": "markdown",
   "metadata": {},
   "source": [
    "#### *Random forest* avec discrimination positive"
   ]
  },
  {
   "cell_type": "code",
   "execution_count": null,
   "metadata": {
    "ExecuteTime": {
     "end_time": "2020-03-22T10:46:22.473592Z",
     "start_time": "2020-03-22T10:46:22.441Z"
    }
   },
   "outputs": [],
   "source": [
    "tauxErr(table(yHatFrfDP,daTestF$income)); tauxErr(table(yHatMrfDP,daTestM$income))"
   ]
  },
  {
   "cell_type": "code",
   "execution_count": null,
   "metadata": {
    "ExecuteTime": {
     "end_time": "2020-03-22T10:48:01.710243Z",
     "start_time": "2020-03-22T10:48:01.678Z"
    }
   },
   "outputs": [],
   "source": [
    "round(overErrEqual(daTestFM[,\"sex\"],daTestFM$income,as.factor(yHatFMrfDP)),2)"
   ]
  },
  {
   "cell_type": "markdown",
   "metadata": {},
   "source": [
    "**Q** L'évolution de ce critère est elle logique compte tenu de la correction adoptée sur la décision?\n",
    "\n",
    "**Q** Cette correction est-elle socialement acceptable?"
   ]
  },
  {
   "cell_type": "markdown",
   "metadata": {},
   "source": [
    "###  Asymétrie de la matrice de confusion: *equalitzed odds* \n",
    "Une autre source de discrimination est considérée. Elle a été mise en exergue par le site [Propublica](https://www.propublica.org/article/machine-bias-risk-assessments-in-criminal-sentencing) à propos du score de récidive COMPAS de la société *equivant* utilisé dans certaines cours de justice américaines sous une forme de \"justice prédictive\". Le biais concerne une inversion de l'asymétrie de la matrice de confusion selon la variable sensible. De très nombreux critères ont été proposés pour évaluer cette asymétrie et dont [Verma et Rubin (2018](http://fairware.cs.umass.edu/papers/Verma.pdf)) proposent une revue. Leurs définitions sont basées sur les différentes fréquences issues de la table de contingence et calculées par la fonction ci-dessous."
   ]
  },
  {
   "cell_type": "code",
   "execution_count": null,
   "metadata": {
    "ExecuteTime": {
     "end_time": "2020-03-22T10:53:16.080696Z",
     "start_time": "2020-03-22T10:53:16.062Z"
    }
   },
   "outputs": [],
   "source": [
    "contRatio <- function(T){ \n",
    "    # Ratios calculés à partir de la matrice de confusion\n",
    "    TP=T[2,2] # true positive\n",
    "    FP=T[2,1] # false positive\n",
    "    FN=T[1,2] # false negative\n",
    "    TN=T[1,1]  # true negative\n",
    "    PPV=TP/(TP+FP) # P(Y=1|g(x)=1) positive predictive value\n",
    "    FDR=FP/(TP+FP) # P(Y=0|g(x)=1) false discovery rate \n",
    "    FOR=FN/(TN+FN) # P(Y=1|g(x)=0) false omission rate\n",
    "    NPV=TN/(TN+FN) # P(Y=0|g(x)=0) negative predictive value\n",
    "    TPR=TP/(TP+FN) # P(g(x)=1|Y=1) true positive rate\n",
    "    FPR=FP/(FP+TN) # P(g(x)=1|Y=0) false positive rate\n",
    "    FNR=FN/(TP+FN) # P(g(x)=0|Y=1) false negative rate\n",
    "    TNR=TN/(FP+TN) # P(g(x)=0|Y=0) true negative rate\n",
    "    return(list(\"PPV\"=PPV,\"FDR\"=FDR,\"FOR\"=FOR,\"NPV\"=NPV,\"TPR\"=TPR,\"FPR\"=FPR,\"FNR\"=FNR,\"TNR\"=TNR))\n",
    "}"
   ]
  },
  {
   "cell_type": "code",
   "execution_count": null,
   "metadata": {
    "ExecuteTime": {
     "end_time": "2020-03-22T10:53:40.090667Z",
     "start_time": "2020-03-22T10:53:40.052Z"
    }
   },
   "outputs": [],
   "source": [
    "contRatio(table(pred.log>0.5,daTest$income))"
   ]
  },
  {
   "cell_type": "markdown",
   "metadata": {},
   "source": [
    "Liste de critères d'équité pouvant être définis à partir des fréquences précédentes conditionnellement à la variable sensible. La combinatoire des possibles est importante mais peut être réduite en remarquant que *PPV*=1-*FDR*, *FOR*=1-*NPV*, *FPR*=1-*TNR*, *FNR*=1-*TPR*... Selon les auteurs, il y a équité de traitement si:\n",
    "- *Predictive parity*: les deux groupes ont les mêmes *PPV*s et par conséquence les mêmes *FDR*s;\n",
    "- *False positive error rate balance* ou *predictive equality*: mêmes *FPR*s et par conséquence les mêmes *TNR*s;\n",
    "- *False negative error rate balance* ou *equal opportunity*: mêmes *FNR*s et par conséquence les mêmes *TPR*s;\n",
    "- *Conditional procedure accuracy equality* ou *disparate mistreatment* ou *equalized odds* combine les deux ci-dessus: mêmes *TPR*s **ET** mêmes *FPR*s;\n",
    "- *Overall accuracy equality*: mêmes *TPR* **ET** mêmes *TNR*;\n",
    "- *Conditionnal use accuracy equality*: mêmes *PPV*s **ET** mêmes *NPV*s;\n",
    "- *Teatment equality*: les rapports *FN/FP* sont les mêmes pour les deux groupes.\n",
    "\n",
    "Bien d'autres critères ont été proposés (cf. Verma et Rubin. 2018), il ne sont pas développés ici. Les calculs des *TPR* et *TNR* conditionnels sont privilégiés ci-dessous mais ce n'est qu'un choix parmi d'autres. Friedler et al. (2019) montrent que ceux-ci sont très corrélés justifiant qu'il est raisonnable de se limiter en première \"lecture\" aux seules comparaisons des *TPR* et *FPR*."
   ]
  },
  {
   "cell_type": "markdown",
   "metadata": {},
   "source": [
    "#### Régression logistique linéaire\n",
    "La matrice de confusion est construite pour chaque genre pour comparer les différents indicateurs de loyauté."
   ]
  },
  {
   "cell_type": "code",
   "execution_count": null,
   "metadata": {
    "ExecuteTime": {
     "end_time": "2020-03-22T10:57:32.837077Z",
     "start_time": "2020-03-22T10:57:32.790Z"
    }
   },
   "outputs": [],
   "source": [
    "fairness=data.frame(\"Female\"=as.matrix(contRatio(table(pred.log>0.5,daTest$income,daTest$sex)[,,1])),\n",
    "                    \"Male\"=as.matrix(contRatio(table(pred.log>0.5,daTest$income,daTest$sex)[,,2])))\n",
    "fairness"
   ]
  },
  {
   "cell_type": "markdown",
   "metadata": {},
   "source": [
    "Il serait fastidieux de construire toutes les comparaisons d'autant que beaucoup de ces indicateurs sont redondants. Seuls les  ***Equalized Odds*** sont estimés par des intervalles de  confiance à l'aide de la fonction `oddsEqual` qui  admet 4 paramètres:\n",
    "- S: variable du groupe protégé\n",
    "- Y: variable cible\n",
    "- P: prévision $\\hat{Y}$\n",
    "- alpha=0.05, valeur par défaut.\n",
    "\n",
    "Elle fournit l'estimation par intervalle de confiance des rapports des *FPR* et *TPR* conditionnels et permet donc de tester l'égalité ou non des cotes selon la variable sensible."
   ]
  },
  {
   "cell_type": "code",
   "execution_count": null,
   "metadata": {
    "ExecuteTime": {
     "end_time": "2020-03-22T11:00:18.329450Z",
     "start_time": "2020-03-22T11:00:18.308Z"
    }
   },
   "outputs": [],
   "source": [
    "source('../Functions/oddsEqual.R')"
   ]
  },
  {
   "cell_type": "code",
   "execution_count": null,
   "metadata": {
    "ExecuteTime": {
     "end_time": "2020-03-22T11:00:21.283985Z",
     "start_time": "2020-03-22T11:00:21.198Z"
    }
   },
   "outputs": [],
   "source": [
    "round(oddsEqual(daTest$sex,daTest$income,as.factor(pred.log>0.5)),2)"
   ]
  },
  {
   "cell_type": "markdown",
   "metadata": {},
   "source": [
    "**Q** Quel genre semble cette fois favorisé au sens de ce critère?"
   ]
  },
  {
   "cell_type": "markdown",
   "metadata": {},
   "source": [
    "#### Arbre binaire\n",
    "Affichage des matrices de confusion par genre:"
   ]
  },
  {
   "cell_type": "code",
   "execution_count": null,
   "metadata": {},
   "outputs": [],
   "source": [
    "table(yHatTree,daTest$income,daTest$sex)"
   ]
  },
  {
   "cell_type": "markdown",
   "metadata": {},
   "source": [
    "Calculs des différents critères"
   ]
  },
  {
   "cell_type": "code",
   "execution_count": null,
   "metadata": {},
   "outputs": [],
   "source": [
    "fairnessTree=data.frame(\"Female\"=as.matrix(contRatio(table(yHatTree,daTest$income,daTest$sex)[,,1])),\n",
    "                    \"Male\"=as.matrix(contRatio(table(yHatTree,daTest$income,daTest$sex)[,,2])))\n",
    "fairnessTree"
   ]
  },
  {
   "cell_type": "markdown",
   "metadata": {},
   "source": [
    "Comparer par exemple les taux de faux positifs et faux négatifs par genre ou encore les estimations des rapports ci-dessous:"
   ]
  },
  {
   "cell_type": "code",
   "execution_count": null,
   "metadata": {},
   "outputs": [],
   "source": [
    "round(oddsEqual(daTest$sex,daTest$income,yHatTree),2)"
   ]
  },
  {
   "cell_type": "markdown",
   "metadata": {},
   "source": [
    "**Q** Même question avec un arbre binaire. Que dire, si c'était l'évaluation d'un score de crédit, des risques engagés par la banque selon le genre et donc de la rupture d'équité qui en découle?"
   ]
  },
  {
   "cell_type": "markdown",
   "metadata": {},
   "source": [
    "#### *Random forest* "
   ]
  },
  {
   "cell_type": "code",
   "execution_count": null,
   "metadata": {
    "ExecuteTime": {
     "end_time": "2020-03-22T11:04:18.581394Z",
     "start_time": "2020-03-22T11:04:18.543Z"
    }
   },
   "outputs": [],
   "source": [
    "fairnessRF=data.frame(\"Female\"=as.matrix(contRatio(table(yHatrf,daTest$income,daTest$sex)[,,1])),\n",
    "                    \"Male\"=as.matrix(contRatio(table(yHatrf,daTest$income,daTest$sex)[,,2])))\n",
    "fairnessRF"
   ]
  },
  {
   "cell_type": "code",
   "execution_count": null,
   "metadata": {
    "ExecuteTime": {
     "end_time": "2020-03-22T11:04:34.202729Z",
     "start_time": "2020-03-22T11:04:34.177Z"
    }
   },
   "outputs": [],
   "source": [
    "round(oddsEqual(daTest$sex,daTest$income,yHatrf),2)"
   ]
  },
  {
   "cell_type": "markdown",
   "metadata": {},
   "source": [
    "**Q** Même question avec une forêt aléatoire."
   ]
  },
  {
   "cell_type": "markdown",
   "metadata": {},
   "source": [
    "#### Arbre binaire avec discrimination positive"
   ]
  },
  {
   "cell_type": "code",
   "execution_count": null,
   "metadata": {},
   "outputs": [],
   "source": [
    "fairnessRFDP=data.frame(\"Female\"=as.matrix(contRatio(table(yHatFtreeDP,daTestF$income))),\n",
    "                    \"Male\"=as.matrix(contRatio(table(yHatMtreeDP,daTestM$income))))\n",
    "fairnessRFDP"
   ]
  },
  {
   "cell_type": "code",
   "execution_count": null,
   "metadata": {},
   "outputs": [],
   "source": [
    "round(oddsEqual(daTestFM[,\"sex\"],daTestFM$income,as.factor(yHatFMtreeDP)),2)"
   ]
  },
  {
   "cell_type": "markdown",
   "metadata": {},
   "source": [
    "#### *Random forest* avec discrimination positive"
   ]
  },
  {
   "cell_type": "code",
   "execution_count": null,
   "metadata": {
    "ExecuteTime": {
     "end_time": "2020-03-22T11:05:53.395096Z",
     "start_time": "2020-03-22T11:05:53.353Z"
    }
   },
   "outputs": [],
   "source": [
    "fairnessRFDP=data.frame(\"Female\"=as.matrix(contRatio(table(yHatFrfDP,daTestF$income))),\n",
    "                    \"Male\"=as.matrix(contRatio(table(yHatMrfDP,daTestM$income))))\n",
    "fairnessRFDP"
   ]
  },
  {
   "cell_type": "code",
   "execution_count": null,
   "metadata": {
    "ExecuteTime": {
     "end_time": "2020-03-22T11:07:46.482765Z",
     "start_time": "2020-03-22T11:07:46.456Z"
    }
   },
   "outputs": [],
   "source": [
    "round(oddsEqual(daTestFM[,\"sex\"],daTestFM$income,as.factor(yHatFMrfDP)),2)"
   ]
  },
  {
   "cell_type": "markdown",
   "metadata": {},
   "source": [
    "**Q** La correction va-t-elle dans le sens attendu? \n",
    "\n",
    "**Q** En conclusion, le traitement par post-processing du seuil va-t-il, pour cet exemple, dans le bon sens pour tous les critères de biais?\n",
    "\n",
    "**Exercice** Commenter les \"recommandations\" de [Goglin (2021)](https://theconversation.com/discrimination-et-ia-comment-limiter-les-risques-en-matiere-de-credit-bancaire-167008)."
   ]
  },
  {
   "cell_type": "markdown",
   "metadata": {},
   "source": [
    "## Conclusion\n",
    "\n",
    "Conclure sur \n",
    "- le choix entre un modèle linéaire, arbre, agrégation d'arbres pour la qualité de prévision *vs.* l'interprétabilité.\n",
    "- l'intervention de la variable sensible dans un modèle et donc sur l'effet d'une interdiction de prendre en compte une variable sensible comme l'origine ethnique,\n",
    "- l'efficacité du testing, \n",
    "- en considérant les trois types de biais considérés, lequel mettrait en évidence une rupture d'équité selon le genre vis-à-vis des risques encourus par une banque?\n",
    "- les impacts du post processing rudimentaire mis en oeuvre sur la précision, les autres biais.\n",
    "\n",
    "Finalement, quel choix d'algorithme opérer et comment le justifier d'un point de vue économique pour une banque mais aussi d'image sociale d'équité de la procédure.\n",
    "\n",
    "**Remarques** .\n",
    "- Il n'est sans doute pas nécessaire d'estimer deux modèles selon le genre. Le seul post-processing des seuils de décision devrait suffire.\n",
    "- Aux USA le calcul de l'*adverse* ou *disparate impact* est pris en compte dans les embauches par obligation du code du travail en tenant à jour des \"statistiques ethniques\". En France seules des opérations de testing sont déployées.\n",
    "- Aux USA, l'utilisation d'un algorithme non linéaire sans contrôle est risquée car un biais trop important ($DI<0.8$) sans explication, donc justification possible, est condamnable. C'est la raison pour laquelle certaines entreprises américaines de la *hiring tech* proposent des atténuations du biais afin d'économiser des poursuites judiciaires (Raghavan et al. 2019).\n",
    "- Un `data scientist` dispose actuellement d'une grande latitude pour faire ce qu'il veut, sans contrôle: du comportement déloyal, condamnable, à la discrimination positive pour introduire plus d'équité dans la société!\n",
    "- Nous pouvons espérer, qu'après la mise en place du RGPD, l'adoption de l'*AI Act* impacte ces pratiques.\n",
    "- Un gros travail en vue pour un *data scientist* responsable d'un traitement qui devra tenir à jour une documentation complète et détaillée de toutes ces procédures, du recueil des données au suivi d'un système d'intelligence artificielle en exploitation. \n",
    "\n",
    "**Il est vivement recommandé d'anticiper sur cette réglementation à venir afin de justifier les choix opérés, à savoir le moins mauvais compromis faisant intervenir, confidentialité des données, précision des prévisions, interprétabilité du modèle et biais ou risques de discrimination.**\n",
    "\n"
   ]
  },
  {
   "cell_type": "markdown",
   "metadata": {},
   "source": [
    "## Références\n",
    "Barocas S., Selbst A. (2016). [Big Data's Disparate Impact](https://papers.ssrn.com/sol3/papers.cfm?abstract_id=2477899), *California Law Review*, 671.\n",
    "\n",
    "Besse P. (2020). [Détecter, évaluer les risques des impacts discriminatoires des algorithmes d'IA](https://hal.archives-ouvertes.fr/hal-02616963), Contribution au séminaire Défenseur des Droits et CNIL, 28 mai 2020, article soumis.\n",
    "\n",
    "Besse P. del Barrio E. Gordaliza P. Loubes J.-M., Risser L. (2021). [A survey of bias in Machine Learning through the prism of Statistical Parity for the Adult Data Set](https://doi.org/10.1080/00031305.2021.1952897), The American Statistician , DOI: 10.1080/00031305.2021.1952897 [Open access version](https://arxiv.org/pdf/2003.14263.pdf).\n",
    "\n",
    "Efron B. (1987). [Better Bootstrap Confidence Intervals](https://www.jstor.org/stable/2289144?seq=1), *Journal of the American Statistical Association*, Vol. 82, No. 397 (Mar., 1987), pp. 171-185. \n",
    "\n",
    "Friedler S., Scheidegger C., Venkatasubramanian S., Choudhary S., Hamilton E., Roth D. (2019). [A comparative study of fairness-enhancing interventions in machine learning](https://dl.acm.org/doi/10.1145/3287560.3287589), *Proceedings of the Conference on Fairness, Accountability, and Transparency*.\n",
    "\n",
    "Morris S., Lobsenz R. (2000), [Signifiance Tests and Confidence Intervals for the Adverse Impact Ratio](https://doi.org/10.1111/j.1744-6570.2000.tb00195.x) *Personnel Psychology*, 53: 89-111.\n",
    "\n",
    "Riach, P., Rich J. (2002). [Field Experiments of Discrimination In The Market Place]( https://doi.org/10.1111/1468-0297.00080), *The Economic Journal*, Vol. 112, 480-518.\n",
    "\n",
    "Raghavan M., Barocas S., Kleinberg J., Levy K. (2019) [Mitigating bias in Algorithmic Hiring : Evaluating Claims and Practices](https://arxiv.org/abs/1906.09208), arXiv:1906.09208.\n",
    "\n",
    "Verma S., Rubin J. (2018). [Fairness Definitions Explained](http://fairware.cs.umass.edu/papers/Verma.pdf),  *ACM/IEEE International Workshop on Software Fairness*.\n",
    "\n",
    "Zliobaitė I. (2015). [A survey on measuring indirect discrimination in machine learning](https://arxiv.org/pdf/1511.00148.pdf), arXiv preprint.\n"
   ]
  },
  {
   "cell_type": "code",
   "execution_count": null,
   "metadata": {},
   "outputs": [],
   "source": []
  }
 ],
 "metadata": {
  "kernelspec": {
   "display_name": "R",
   "language": "R",
   "name": "ir"
  },
  "language_info": {
   "codemirror_mode": "r",
   "file_extension": ".r",
   "mimetype": "text/x-r-source",
   "name": "R",
   "pygments_lexer": "r",
   "version": "4.2.2"
  },
  "latex_envs": {
   "LaTeX_envs_menu_present": true,
   "autoclose": false,
   "autocomplete": true,
   "bibliofile": "biblio.bib",
   "cite_by": "apalike",
   "current_citInitial": 1,
   "eqLabelWithNumbers": true,
   "eqNumInitial": 1,
   "hotkeys": {
    "equation": "Ctrl-E",
    "itemize": "Ctrl-I"
   },
   "labels_anchors": false,
   "latex_user_defs": false,
   "report_style_numbering": false,
   "user_envs_cfg": false
  },
  "toc": {
   "base_numbering": 1,
   "nav_menu": {},
   "number_sections": true,
   "sideBar": true,
   "skip_h1_title": true,
   "title_cell": "Table of Contents",
   "title_sidebar": "Contents",
   "toc_cell": false,
   "toc_position": {
    "height": "calc(100% - 180px)",
    "left": "10px",
    "top": "150px",
    "width": "231.05px"
   },
   "toc_section_display": true,
   "toc_window_display": true
  }
 },
 "nbformat": 4,
 "nbformat_minor": 2
}
